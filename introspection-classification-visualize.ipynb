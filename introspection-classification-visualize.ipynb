{
 "cells": [
  {
   "cell_type": "code",
   "execution_count": 1,
   "metadata": {},
   "outputs": [],
   "source": [
    "%load_ext autoreload\n",
    "%autoreload 2\n",
    "from pathlib import Path\n",
    "import torch\n",
    "from typing import Dict, List, Iterator, Union, Any\n",
    "import logging\n",
    "import tempfile\n",
    "import json\n",
    "import shutil\n",
    "from pathlib import Path\n",
    "from pprint import pprint\n",
    "from models.utils.wandb import RunData\n",
    "from models.utils.allennlp import (\n",
    "    load_config, load_dataset_reader, load_iterator, load_model,load_best_metrics, load_modules, \n",
    "    load_outputs, create_onepass_generator)\n",
    "from allennlp.models import Model\n",
    "from allennlp.data import DatasetReader, DataIterator\n",
    "import pandas as pd\n",
    "from copy import deepcopy\n",
    "import plotly.graph_objs as go\n",
    "import numpy as np\n",
    "from ipywidgets import interact, fixed\n",
    "logging.basicConfig(\n",
    "    format=\"%(asctime)s - %(levelname)s - %(name)s - %(message)s\", level=logging.INFO)\n",
    "\n",
    "logger = logging.getLogger(__name__)\n"
   ]
  },
  {
   "cell_type": "code",
   "execution_count": 13,
   "metadata": {},
   "outputs": [],
   "source": [
    "# config\n",
    "RUN = 'rmhlaa7z'\n",
    "EXTRA_MODULES = ['models', 'datasets']\n",
    "DATA_DIR = '/Users/dhruv/UnsyncedDocuments/IESL/kb_completion/models/.data'\n",
    "DOWNLOADS_DIR = '.models/HYPO_50'\n",
    "#DOWNLOADS_DIR = '/var/folders/r2/8mbb22091rb4vq4xtd19bbw80000gn/T/tmp5ypyp_4a'"
   ]
  },
  {
   "cell_type": "code",
   "execution_count": 14,
   "metadata": {
    "scrolled": true
   },
   "outputs": [
    {
     "name": "stderr",
     "output_type": "stream",
     "text": [
      "2020-02-13 22:33:14,899 - INFO - __main__ - Downloading run files if needed...\n",
      "2020-02-13 22:33:15,886 - INFO - models.utils.wandb - Setting up download dir as .models/HYPO_50/rmhlaa7z\n",
      "2020-02-13 22:33:16,119 - INFO - models.utils.wandb - Downloading allennlp_serialization_dir/best.th\n",
      "2020-02-13 22:33:17,264 - INFO - models.utils.wandb - Downloading allennlp_serialization_dir/config.json\n",
      "2020-02-13 22:33:17,858 - INFO - models.utils.wandb - Downloading allennlp_serialization_dir/log/train/events.out.tfevents.1581556112.node163\n",
      "2020-02-13 22:33:20,397 - INFO - models.utils.wandb - Downloading allennlp_serialization_dir/metrics.json\n",
      "2020-02-13 22:33:26,192 - INFO - models.utils.wandb - Downloading allennlp_serialization_dir/model.tar.gz\n",
      "2020-02-13 22:33:27,034 - INFO - models.utils.wandb - Downloading allennlp_serialization_dir/model_state_epoch_896.th\n",
      "2020-02-13 22:33:27,844 - INFO - models.utils.wandb - Downloading allennlp_serialization_dir/stderr.log\n",
      "2020-02-13 22:33:28,819 - INFO - models.utils.wandb - Downloading allennlp_serialization_dir/stdout.log\n",
      "2020-02-13 22:33:29,561 - INFO - models.utils.wandb - Downloading allennlp_serialization_dir/training_state_epoch_896.th\n",
      "2020-02-13 22:33:30,716 - INFO - models.utils.wandb - Downloading allennlp_serialization_dir/vocabulary/non_padded_namespaces.txt\n",
      "2020-02-13 22:33:31,149 - INFO - models.utils.wandb - Downloading config.yaml\n",
      "2020-02-13 22:33:31,565 - INFO - models.utils.wandb - Downloading diff.patch\n",
      "2020-02-13 22:33:31,941 - INFO - models.utils.wandb - Downloading output.log\n",
      "2020-02-13 22:33:33,224 - INFO - models.utils.wandb - Downloading requirements.txt\n",
      "2020-02-13 22:33:33,653 - INFO - models.utils.wandb - Downloading wandb-metadata.json\n",
      "2020-02-13 22:33:34,024 - INFO - models.utils.wandb - Downloading wandb-summary.json\n"
     ]
    }
   ],
   "source": [
    "# get the run files\n",
    "logger.info(\"Downloading run files if needed...\")\n",
    "rd = RunData(RUN, group='iesl-boxes', project='kb-completion',\n",
    "             download_dir=Path(DOWNLOADS_DIR))\n",
    "\n",
    "rd.download_files(skip_patterns=['allennlp_serialization_dir/metrics_epoch_[\\d]+.json$'])"
   ]
  },
  {
   "cell_type": "code",
   "execution_count": 15,
   "metadata": {},
   "outputs": [
    {
     "name": "stderr",
     "output_type": "stream",
     "text": [
      "2020-02-13 22:33:34,455 - INFO - __main__ - Loading ['models', 'datasets'] for AllenNLP\n",
      "2020-02-13 22:33:34,696 - INFO - __main__ - Setting up config overrides ...\n",
      "2020-02-13 22:33:34,766 - INFO - allennlp.common.params - Converting Params object to dict; logging of default values will not occur when dictionary parameters are used subsequently.\n",
      "2020-02-13 22:33:34,767 - INFO - allennlp.common.params - CURRENTLY DEFINED PARAMETERS: \n",
      "2020-02-13 22:33:34,768 - INFO - allennlp.common.params - model.box_type = DeltaBoxTensor\n",
      "2020-02-13 22:33:34,771 - INFO - allennlp.common.params - model.debug = False\n",
      "2020-02-13 22:33:34,772 - INFO - allennlp.common.params - model.embedding_dim = 2\n",
      "2020-02-13 22:33:34,773 - INFO - allennlp.common.params - model.init_interval_center = 0.2\n",
      "2020-02-13 22:33:34,774 - INFO - allennlp.common.params - model.init_interval_delta = 1\n",
      "2020-02-13 22:33:34,774 - INFO - allennlp.common.params - model.num_entities = 164228\n",
      "2020-02-13 22:33:34,775 - INFO - allennlp.common.params - model.num_relations = 1\n",
      "2020-02-13 22:33:34,777 - INFO - allennlp.common.params - model.number_of_negative_samples_head = 1\n",
      "2020-02-13 22:33:34,780 - INFO - allennlp.common.params - model.number_of_negative_samples_tail = 1\n",
      "2020-02-13 22:33:34,781 - INFO - allennlp.common.params - model.regularization_weight = 6.256463742242786e-05\n",
      "2020-02-13 22:33:34,784 - INFO - allennlp.common.params - model.single_box = true\n",
      "2020-02-13 22:33:34,788 - INFO - allennlp.common.params - model.softbox_temp = 4.035650373027258\n",
      "2020-02-13 22:33:34,791 - INFO - allennlp.common.params - model.type = BCE-classification-split-neg-vol-penalty-box-model\n",
      "2020-02-13 22:33:34,792 - INFO - allennlp.common.params - iterator.batch_size = 2000\n",
      "2020-02-13 22:33:34,794 - INFO - allennlp.common.params - iterator.cache_instances = True\n",
      "2020-02-13 22:33:34,799 - INFO - allennlp.common.params - iterator.type = basic\n",
      "2020-02-13 22:33:34,800 - INFO - allennlp.common.params - dataset_reader.all_datadir = /mnt/nfs/work1/mccallum/dhruveshpate/kb_completion/models/.data\n",
      "2020-02-13 22:33:34,802 - INFO - allennlp.common.params - dataset_reader.dataset_name = HYPER_TR_50\n",
      "2020-02-13 22:33:34,804 - INFO - allennlp.common.params - dataset_reader.mode = train\n",
      "2020-02-13 22:33:34,808 - INFO - allennlp.common.params - dataset_reader.type = openke-dataset\n",
      "2020-02-13 22:33:34,812 - INFO - allennlp.common.params - validation_data_path = dummy_path\n",
      "2020-02-13 22:33:34,815 - INFO - allennlp.common.params - trainer.callbacks = [{'debug': False, 'log_freq': 2, 'type': 'debug-validate'}, {'checkpointer': {'num_serialized_models_to_keep': 1}, 'type': 'checkpoint'}, {'patience': 100, 'type': 'track_metrics', 'validation_metric': '+fscore'}, {'debug': False, 'log_freq': 2, 'type': 'tensorboard_logging'}, {'debug': False, 'debug_log_freq': 2, 'type': 'log_metrics_to_wandb'}]\n",
      "2020-02-13 22:33:34,816 - INFO - allennlp.common.params - trainer.cuda_device = 0\n",
      "2020-02-13 22:33:34,820 - INFO - allennlp.common.params - trainer.num_epochs = 5000\n",
      "2020-02-13 22:33:34,822 - INFO - allennlp.common.params - trainer.optimizer.lr = 0.014657611547573118\n",
      "2020-02-13 22:33:34,824 - INFO - allennlp.common.params - trainer.optimizer.type = adam\n",
      "2020-02-13 22:33:34,829 - INFO - allennlp.common.params - trainer.shuffle = True\n",
      "2020-02-13 22:33:34,832 - INFO - allennlp.common.params - trainer.type = callback\n",
      "2020-02-13 22:33:34,835 - INFO - allennlp.common.params - validation_dataset_reader.all_datadir = /mnt/nfs/work1/mccallum/dhruveshpate/kb_completion/models/.data\n",
      "2020-02-13 22:33:34,838 - INFO - allennlp.common.params - validation_dataset_reader.dataset_name = HYPER_TR_50\n",
      "2020-02-13 22:33:34,839 - INFO - allennlp.common.params - validation_dataset_reader.type = classification-validation-dataset\n",
      "2020-02-13 22:33:34,844 - INFO - allennlp.common.params - validation_dataset_reader.validation_file = classification_samples_valid2id.txt\n",
      "2020-02-13 22:33:34,847 - INFO - allennlp.common.params - datasets_for_vocab_creation = []\n",
      "2020-02-13 22:33:34,850 - INFO - allennlp.common.params - validation_iterator.batch_size = 5000\n",
      "2020-02-13 22:33:34,852 - INFO - allennlp.common.params - validation_iterator.cache_instances = True\n",
      "2020-02-13 22:33:34,855 - INFO - allennlp.common.params - validation_iterator.type = basic\n",
      "2020-02-13 22:33:34,858 - INFO - allennlp.common.params - train_data_path = dummpy_path\n",
      "2020-02-13 22:33:34,864 - INFO - allennlp.common.registrable - instantiating registered subclass BCE-classification-split-neg-vol-penalty-box-model of <class 'allennlp.models.model.Model'>\n",
      "2020-02-13 22:33:34,870 - INFO - allennlp.common.params - type = default\n",
      "2020-02-13 22:33:34,872 - INFO - allennlp.common.registrable - instantiating registered subclass default of <class 'allennlp.data.vocabulary.Vocabulary'>\n",
      "2020-02-13 22:33:34,874 - INFO - allennlp.data.vocabulary - Loading token dictionary from .models/HYPO_50/rmhlaa7z/allennlp_serialization_dir/vocabulary.\n",
      "2020-02-13 22:33:34,880 - INFO - allennlp.common.from_params - instantiating class <class 'allennlp.models.model.Model'> from params {'box_type': 'DeltaBoxTensor', 'debug': False, 'embedding_dim': 2, 'init_interval_center': 0.2, 'init_interval_delta': 1, 'num_entities': 164228, 'num_relations': 1, 'number_of_negative_samples_head': 1, 'number_of_negative_samples_tail': 1, 'regularization_weight': '6.256463742242786e-05', 'single_box': 'true', 'softbox_temp': 4.035650373027258, 'type': 'BCE-classification-split-neg-vol-penalty-box-model'} and extras {'vocab'}\n",
      "2020-02-13 22:33:34,881 - INFO - allennlp.common.params - model.type = BCE-classification-split-neg-vol-penalty-box-model\n",
      "2020-02-13 22:33:34,883 - INFO - allennlp.common.from_params - instantiating class <class 'models.box.bce_models.BCEBoxClassificationSplitNegVolPenaltyModel'> from params {'box_type': 'DeltaBoxTensor', 'debug': False, 'embedding_dim': 2, 'init_interval_center': 0.2, 'init_interval_delta': 1, 'num_entities': 164228, 'num_relations': 1, 'number_of_negative_samples_head': 1, 'number_of_negative_samples_tail': 1, 'regularization_weight': '6.256463742242786e-05', 'single_box': 'true', 'softbox_temp': 4.035650373027258} and extras {'vocab'}\n",
      "2020-02-13 22:33:34,885 - INFO - allennlp.common.params - model.num_entities = 164228\n",
      "2020-02-13 22:33:34,886 - INFO - allennlp.common.params - model.num_relations = 1\n",
      "2020-02-13 22:33:34,887 - INFO - allennlp.common.params - model.embedding_dim = 2\n",
      "2020-02-13 22:33:34,889 - INFO - allennlp.common.params - model.box_type = DeltaBoxTensor\n",
      "2020-02-13 22:33:34,890 - INFO - allennlp.common.params - model.single_box = true\n",
      "2020-02-13 22:33:34,891 - INFO - allennlp.common.params - model.softbox_temp = 4.035650373027258\n",
      "2020-02-13 22:33:34,892 - INFO - allennlp.common.params - model.number_of_negative_samples_head = 1\n",
      "2020-02-13 22:33:34,893 - INFO - allennlp.common.params - model.number_of_negative_samples_tail = 1\n",
      "2020-02-13 22:33:34,893 - INFO - allennlp.common.params - model.debug = False\n",
      "2020-02-13 22:33:34,895 - INFO - allennlp.common.params - model.regularization_weight = 6.256463742242786e-05\n",
      "2020-02-13 22:33:34,896 - INFO - allennlp.common.params - model.init_interval_center = 0.2\n",
      "2020-02-13 22:33:34,897 - INFO - allennlp.common.params - model.init_interval_delta = 1\n",
      "2020-02-13 22:33:34,925 - INFO - root - Loading a model trained before embedding extension was implemented; pass an explicit vocab namespace if you want to extend the vocabulary.\n",
      "2020-02-13 22:33:34,926 - INFO - root - Loading a model trained before embedding extension was implemented; pass an explicit vocab namespace if you want to extend the vocabulary.\n"
     ]
    }
   ],
   "source": [
    "\n",
    "# load modules\n",
    "logger.info(\"Loading {} for AllenNLP\".format(EXTRA_MODULES))\n",
    "load_modules(EXTRA_MODULES)\n",
    "\n",
    "# override the val dataset setup to become the test dataset setup\n",
    "overrides = {'validation_dataset_reader':\n",
    "             {\n",
    "                 'all_datadir': DATA_DIR,\n",
    "                 \"validation_file\": \"classification_samples_test2id.txt\"\n",
    "             }\n",
    "            }\n",
    "logger.info(\"Setting up config overrides ...\")\n",
    "\n",
    "# load config\n",
    "config = load_config(\n",
    "    rd.download_dir/\"allennlp_serialization_dir\", overrides_dict=overrides)\n",
    "#pprint(config.as_dict())\n",
    "\n",
    "# load best metrics\n",
    "#best_metrics = load_best_metrics(rd.download_dir/\"allennlp_serialization_dir\")\n",
    "# load model\n",
    "model = load_model(rd.download_dir/\"allennlp_serialization_dir\", config=config)\n",
    "#model.test_threshold = best_metrics['best_validation_threshold']\n",
    "model.test_threshold =-5.59\n",
    "\n"
   ]
  },
  {
   "cell_type": "code",
   "execution_count": 16,
   "metadata": {},
   "outputs": [],
   "source": [
    "# create vocab dict\n",
    "from datasets.file_readers.openke import SamplesIdReader\n",
    "vocab_file = Path('/Users/dhruv/UnsyncedDocuments/IESL/kb_completion/models/.data/noun_closure.tsv.vocab')\n",
    "id2name = {}\n",
    "name2idx = {}\n",
    "with open(vocab_file) as f:\n",
    "    for line in f:\n",
    "        pair = [e.strip() for e in line.split()]\n",
    "        id2name[int(pair[0])] = pair[1]\n",
    "        name2idx[pair[1]] = int(pair[0])\n",
    "    "
   ]
  },
  {
   "cell_type": "code",
   "execution_count": 222,
   "metadata": {},
   "outputs": [],
   "source": [
    "# nodes to show\n",
    "nodes = { #'cat.n.01': {},\n",
    "    'animal.n.01': {'idx':None,'color':'yellow'},\n",
    "    'dog.n.01':{'idx':None,'color':'red'},\n",
    "         #'mammal.n.01':{'idx':None,'color':'blue'},\n",
    "         'hound.n.01': {},\n",
    "         'working_dog.n.01':{},\n",
    "         #'watchdog.n.01':{'idx':None,'color':'green'},\n",
    "    #'pet.n.01':{},\n",
    "    'domestic_animal.n.01':{},\n",
    "    'terrier.n.01':{},\n",
    "    #'poodle.n.01':{},\n",
    "    'caterpillar.n.01':{},\n",
    "    #'sedan.n.01':{},\n",
    "    'larva.n.01':{},\n",
    "    #'beet_armyworm.n.01':{},\n",
    "    #'invertebrate.n.01':{},\n",
    "        }\n",
    "#nodes = {'physical_entity.n.01':{},\n",
    "#         'matter.n.03': {},\n",
    "#         'sediment.n.01':{},\n",
    "#         'substance.n.04': {},\n",
    "#         'substance.n.07': {},\n",
    "#        }\n"
   ]
  },
  {
   "cell_type": "code",
   "execution_count": 223,
   "metadata": {},
   "outputs": [],
   "source": [
    "# assign idx\n",
    "colors = [\n",
    "    '#1f77b4',  # muted blue\n",
    "    '#ff7f0e',  # safety orange\n",
    "    '#2ca02c',  # cooked asparagus green\n",
    "    '#d62728',  # brick red\n",
    "    '#9467bd',  # muted purple\n",
    "    '#8c564b',  # chestnut brown\n",
    "    '#e377c2',  # raspberry yogurt pink\n",
    "    '#7f7f7f',  # middle gray\n",
    "    '#bcbd22',  # curry yellow-green\n",
    "    '#17becf',   # blue-teal\n",
    "    '#17b4cf',\n",
    "    '#17b41f',\n",
    "    '#11b4cf' ,\n",
    "    # blue-teal\n",
    "]\n",
    "color_i = 0\n",
    "for name, node in nodes.items():\n",
    "    node[\"idx\"] = name2idx[name]\n",
    "    node['color'] = colors[color_i]\n",
    "    color_i+=1\n",
    "    with torch.no_grad():\n",
    "        t = model.h(torch.tensor(node['idx'],dtype=torch.long))\n",
    "    node[\"pos\"] = {}\n",
    "    n = node[\"pos\"]\n",
    "    (n[\"x0\"],n[\"y0\"]),(n[\"x1\"],n[\"y1\"]) = t.z.detach().tolist(), t.Z.detach().tolist()\n",
    "    \n",
    "    "
   ]
  },
  {
   "cell_type": "code",
   "execution_count": 224,
   "metadata": {},
   "outputs": [
    {
     "name": "stdout",
     "output_type": "stream",
     "text": [
      "{'animal.n.01': {'color': '#1f77b4',\n",
      "                 'idx': 7865,\n",
      "                 'pos': {'x0': -1.3256515264511108,\n",
      "                         'x1': -0.4576614499092102,\n",
      "                         'y0': 0.8527862429618835,\n",
      "                         'y1': 1.2844929695129395}},\n",
      " 'caterpillar.n.01': {'color': '#e377c2',\n",
      "                      'idx': 28394,\n",
      "                      'pos': {'x0': -0.9928223490715027,\n",
      "                              'x1': -0.8595743775367737,\n",
      "                              'y0': 0.8939406275749207,\n",
      "                              'y1': 0.9827897548675537}},\n",
      " 'dog.n.01': {'color': '#ff7f0e',\n",
      "              'idx': 40241,\n",
      "              'pos': {'x0': -1.0852129459381104,\n",
      "                      'x1': -0.6826506853103638,\n",
      "                      'y0': 1.045533537864685,\n",
      "                      'y1': 1.1646744012832642}},\n",
      " 'domestic_animal.n.01': {'color': '#9467bd',\n",
      "                          'idx': 5230,\n",
      "                          'pos': {'x0': -1.1678781509399414,\n",
      "                                  'x1': -0.690235435962677,\n",
      "                                  'y0': 1.0114398002624512,\n",
      "                                  'y1': 1.11700439453125}},\n",
      " 'hound.n.01': {'color': '#2ca02c',\n",
      "                'idx': 50728,\n",
      "                'pos': {'x0': -0.8564545512199402,\n",
      "                        'x1': -0.6737304329872131,\n",
      "                        'y0': 1.0536909103393555,\n",
      "                        'y1': 1.1019015312194824}},\n",
      " 'larva.n.01': {'color': '#7f7f7f',\n",
      "                'idx': 34189,\n",
      "                'pos': {'x0': -1.0756113529205322,\n",
      "                        'x1': -0.8323628306388855,\n",
      "                        'y0': 0.879386305809021,\n",
      "                        'y1': 0.9383946657180786}},\n",
      " 'terrier.n.01': {'color': '#8c564b',\n",
      "                  'idx': 31310,\n",
      "                  'pos': {'x0': -0.9581049680709839,\n",
      "                          'x1': -0.7853311896324158,\n",
      "                          'y0': 1.0848652124404907,\n",
      "                          'y1': 1.169417381286621}},\n",
      " 'working_dog.n.01': {'color': '#d62728',\n",
      "                      'idx': 43072,\n",
      "                      'pos': {'x0': -0.9891568422317505,\n",
      "                              'x1': -0.7603574991226196,\n",
      "                              'y0': 1.067743182182312,\n",
      "                              'y1': 1.13314950466156}}}\n"
     ]
    }
   ],
   "source": [
    "pprint(nodes)"
   ]
  },
  {
   "cell_type": "code",
   "execution_count": 225,
   "metadata": {},
   "outputs": [],
   "source": [
    "import chart_studio.plotly as py\n",
    "import plotly.graph_objs as go"
   ]
  },
  {
   "cell_type": "code",
   "execution_count": 226,
   "metadata": {},
   "outputs": [],
   "source": [
    "def add_boxes(data, fig):\n",
    "    for name, info in data.items():\n",
    "        n = info[\"pos\"]\n",
    "        fig.add_trace(go.Scatter(\n",
    "        x=[n[\"x0\"]+0.05],\n",
    "        y=[n[\"y0\"]+0.006],\n",
    "        text=[name],\n",
    "            name=name,\n",
    "        mode=\"text\",\n",
    "        textfont=dict(color=info['color'])\n",
    "        ))\n",
    "        fig.add_shape(type=\"rect\",**(info['pos']), line=dict(color=info['color']))\n",
    "        \n",
    "    return fig\n",
    "        "
   ]
  },
  {
   "cell_type": "code",
   "execution_count": 231,
   "metadata": {},
   "outputs": [
    {
     "data": {
      "application/vnd.plotly.v1+json": {
       "config": {
        "plotlyServerURL": "https://plot.ly"
       },
       "data": [
        {
         "mode": "text",
         "name": "animal.n.01",
         "text": [
          "animal.n.01"
         ],
         "textfont": {
          "color": "#1f77b4"
         },
         "type": "scatter",
         "x": [
          -1.2756515264511108
         ],
         "y": [
          0.8587862429618836
         ]
        },
        {
         "mode": "text",
         "name": "dog.n.01",
         "text": [
          "dog.n.01"
         ],
         "textfont": {
          "color": "#ff7f0e"
         },
         "type": "scatter",
         "x": [
          -1.0352129459381103
         ],
         "y": [
          1.051533537864685
         ]
        },
        {
         "mode": "text",
         "name": "hound.n.01",
         "text": [
          "hound.n.01"
         ],
         "textfont": {
          "color": "#2ca02c"
         },
         "type": "scatter",
         "x": [
          -0.8064545512199401
         ],
         "y": [
          1.0596909103393555
         ]
        },
        {
         "mode": "text",
         "name": "working_dog.n.01",
         "text": [
          "working_dog.n.01"
         ],
         "textfont": {
          "color": "#d62728"
         },
         "type": "scatter",
         "x": [
          -0.9391568422317504
         ],
         "y": [
          1.073743182182312
         ]
        },
        {
         "mode": "text",
         "name": "domestic_animal.n.01",
         "text": [
          "domestic_animal.n.01"
         ],
         "textfont": {
          "color": "#9467bd"
         },
         "type": "scatter",
         "x": [
          -1.1178781509399414
         ],
         "y": [
          1.0174398002624512
         ]
        },
        {
         "mode": "text",
         "name": "terrier.n.01",
         "text": [
          "terrier.n.01"
         ],
         "textfont": {
          "color": "#8c564b"
         },
         "type": "scatter",
         "x": [
          -0.9081049680709838
         ],
         "y": [
          1.0908652124404907
         ]
        },
        {
         "mode": "text",
         "name": "caterpillar.n.01",
         "text": [
          "caterpillar.n.01"
         ],
         "textfont": {
          "color": "#e377c2"
         },
         "type": "scatter",
         "x": [
          -0.9428223490715026
         ],
         "y": [
          0.8999406275749207
         ]
        },
        {
         "mode": "text",
         "name": "larva.n.01",
         "text": [
          "larva.n.01"
         ],
         "textfont": {
          "color": "#7f7f7f"
         },
         "type": "scatter",
         "x": [
          -1.0256113529205322
         ],
         "y": [
          0.885386305809021
         ]
        }
       ],
       "layout": {
        "height": 800,
        "legend": {
         "x": 0.8,
         "y": 1
        },
        "shapes": [
         {
          "line": {
           "color": "#1f77b4"
          },
          "type": "rect",
          "x0": -1.3256515264511108,
          "x1": -0.4576614499092102,
          "y0": 0.8527862429618835,
          "y1": 1.2844929695129395
         },
         {
          "line": {
           "color": "#ff7f0e"
          },
          "type": "rect",
          "x0": -1.0852129459381104,
          "x1": -0.6826506853103638,
          "y0": 1.045533537864685,
          "y1": 1.1646744012832642
         },
         {
          "line": {
           "color": "#2ca02c"
          },
          "type": "rect",
          "x0": -0.8564545512199402,
          "x1": -0.6737304329872131,
          "y0": 1.0536909103393555,
          "y1": 1.1019015312194824
         },
         {
          "line": {
           "color": "#d62728"
          },
          "type": "rect",
          "x0": -0.9891568422317505,
          "x1": -0.7603574991226196,
          "y0": 1.067743182182312,
          "y1": 1.13314950466156
         },
         {
          "line": {
           "color": "#9467bd"
          },
          "type": "rect",
          "x0": -1.1678781509399414,
          "x1": -0.690235435962677,
          "y0": 1.0114398002624512,
          "y1": 1.11700439453125
         },
         {
          "line": {
           "color": "#8c564b"
          },
          "type": "rect",
          "x0": -0.9581049680709839,
          "x1": -0.7853311896324158,
          "y0": 1.0848652124404907,
          "y1": 1.169417381286621
         },
         {
          "line": {
           "color": "#e377c2"
          },
          "type": "rect",
          "x0": -0.9928223490715027,
          "x1": -0.8595743775367737,
          "y0": 0.8939406275749207,
          "y1": 0.9827897548675537
         },
         {
          "line": {
           "color": "#7f7f7f"
          },
          "type": "rect",
          "x0": -1.0756113529205322,
          "x1": -0.8323628306388855,
          "y0": 0.879386305809021,
          "y1": 0.9383946657180786
         }
        ],
        "showlegend": false,
        "template": {
         "data": {
          "bar": [
           {
            "error_x": {
             "color": "#2a3f5f"
            },
            "error_y": {
             "color": "#2a3f5f"
            },
            "marker": {
             "line": {
              "color": "#E5ECF6",
              "width": 0.5
             }
            },
            "type": "bar"
           }
          ],
          "barpolar": [
           {
            "marker": {
             "line": {
              "color": "#E5ECF6",
              "width": 0.5
             }
            },
            "type": "barpolar"
           }
          ],
          "carpet": [
           {
            "aaxis": {
             "endlinecolor": "#2a3f5f",
             "gridcolor": "white",
             "linecolor": "white",
             "minorgridcolor": "white",
             "startlinecolor": "#2a3f5f"
            },
            "baxis": {
             "endlinecolor": "#2a3f5f",
             "gridcolor": "white",
             "linecolor": "white",
             "minorgridcolor": "white",
             "startlinecolor": "#2a3f5f"
            },
            "type": "carpet"
           }
          ],
          "choropleth": [
           {
            "colorbar": {
             "outlinewidth": 0,
             "ticks": ""
            },
            "type": "choropleth"
           }
          ],
          "contour": [
           {
            "colorbar": {
             "outlinewidth": 0,
             "ticks": ""
            },
            "colorscale": [
             [
              0,
              "#0d0887"
             ],
             [
              0.1111111111111111,
              "#46039f"
             ],
             [
              0.2222222222222222,
              "#7201a8"
             ],
             [
              0.3333333333333333,
              "#9c179e"
             ],
             [
              0.4444444444444444,
              "#bd3786"
             ],
             [
              0.5555555555555556,
              "#d8576b"
             ],
             [
              0.6666666666666666,
              "#ed7953"
             ],
             [
              0.7777777777777778,
              "#fb9f3a"
             ],
             [
              0.8888888888888888,
              "#fdca26"
             ],
             [
              1,
              "#f0f921"
             ]
            ],
            "type": "contour"
           }
          ],
          "contourcarpet": [
           {
            "colorbar": {
             "outlinewidth": 0,
             "ticks": ""
            },
            "type": "contourcarpet"
           }
          ],
          "heatmap": [
           {
            "colorbar": {
             "outlinewidth": 0,
             "ticks": ""
            },
            "colorscale": [
             [
              0,
              "#0d0887"
             ],
             [
              0.1111111111111111,
              "#46039f"
             ],
             [
              0.2222222222222222,
              "#7201a8"
             ],
             [
              0.3333333333333333,
              "#9c179e"
             ],
             [
              0.4444444444444444,
              "#bd3786"
             ],
             [
              0.5555555555555556,
              "#d8576b"
             ],
             [
              0.6666666666666666,
              "#ed7953"
             ],
             [
              0.7777777777777778,
              "#fb9f3a"
             ],
             [
              0.8888888888888888,
              "#fdca26"
             ],
             [
              1,
              "#f0f921"
             ]
            ],
            "type": "heatmap"
           }
          ],
          "heatmapgl": [
           {
            "colorbar": {
             "outlinewidth": 0,
             "ticks": ""
            },
            "colorscale": [
             [
              0,
              "#0d0887"
             ],
             [
              0.1111111111111111,
              "#46039f"
             ],
             [
              0.2222222222222222,
              "#7201a8"
             ],
             [
              0.3333333333333333,
              "#9c179e"
             ],
             [
              0.4444444444444444,
              "#bd3786"
             ],
             [
              0.5555555555555556,
              "#d8576b"
             ],
             [
              0.6666666666666666,
              "#ed7953"
             ],
             [
              0.7777777777777778,
              "#fb9f3a"
             ],
             [
              0.8888888888888888,
              "#fdca26"
             ],
             [
              1,
              "#f0f921"
             ]
            ],
            "type": "heatmapgl"
           }
          ],
          "histogram": [
           {
            "marker": {
             "colorbar": {
              "outlinewidth": 0,
              "ticks": ""
             }
            },
            "type": "histogram"
           }
          ],
          "histogram2d": [
           {
            "colorbar": {
             "outlinewidth": 0,
             "ticks": ""
            },
            "colorscale": [
             [
              0,
              "#0d0887"
             ],
             [
              0.1111111111111111,
              "#46039f"
             ],
             [
              0.2222222222222222,
              "#7201a8"
             ],
             [
              0.3333333333333333,
              "#9c179e"
             ],
             [
              0.4444444444444444,
              "#bd3786"
             ],
             [
              0.5555555555555556,
              "#d8576b"
             ],
             [
              0.6666666666666666,
              "#ed7953"
             ],
             [
              0.7777777777777778,
              "#fb9f3a"
             ],
             [
              0.8888888888888888,
              "#fdca26"
             ],
             [
              1,
              "#f0f921"
             ]
            ],
            "type": "histogram2d"
           }
          ],
          "histogram2dcontour": [
           {
            "colorbar": {
             "outlinewidth": 0,
             "ticks": ""
            },
            "colorscale": [
             [
              0,
              "#0d0887"
             ],
             [
              0.1111111111111111,
              "#46039f"
             ],
             [
              0.2222222222222222,
              "#7201a8"
             ],
             [
              0.3333333333333333,
              "#9c179e"
             ],
             [
              0.4444444444444444,
              "#bd3786"
             ],
             [
              0.5555555555555556,
              "#d8576b"
             ],
             [
              0.6666666666666666,
              "#ed7953"
             ],
             [
              0.7777777777777778,
              "#fb9f3a"
             ],
             [
              0.8888888888888888,
              "#fdca26"
             ],
             [
              1,
              "#f0f921"
             ]
            ],
            "type": "histogram2dcontour"
           }
          ],
          "mesh3d": [
           {
            "colorbar": {
             "outlinewidth": 0,
             "ticks": ""
            },
            "type": "mesh3d"
           }
          ],
          "parcoords": [
           {
            "line": {
             "colorbar": {
              "outlinewidth": 0,
              "ticks": ""
             }
            },
            "type": "parcoords"
           }
          ],
          "pie": [
           {
            "automargin": true,
            "type": "pie"
           }
          ],
          "scatter": [
           {
            "marker": {
             "colorbar": {
              "outlinewidth": 0,
              "ticks": ""
             }
            },
            "type": "scatter"
           }
          ],
          "scatter3d": [
           {
            "line": {
             "colorbar": {
              "outlinewidth": 0,
              "ticks": ""
             }
            },
            "marker": {
             "colorbar": {
              "outlinewidth": 0,
              "ticks": ""
             }
            },
            "type": "scatter3d"
           }
          ],
          "scattercarpet": [
           {
            "marker": {
             "colorbar": {
              "outlinewidth": 0,
              "ticks": ""
             }
            },
            "type": "scattercarpet"
           }
          ],
          "scattergeo": [
           {
            "marker": {
             "colorbar": {
              "outlinewidth": 0,
              "ticks": ""
             }
            },
            "type": "scattergeo"
           }
          ],
          "scattergl": [
           {
            "marker": {
             "colorbar": {
              "outlinewidth": 0,
              "ticks": ""
             }
            },
            "type": "scattergl"
           }
          ],
          "scattermapbox": [
           {
            "marker": {
             "colorbar": {
              "outlinewidth": 0,
              "ticks": ""
             }
            },
            "type": "scattermapbox"
           }
          ],
          "scatterpolar": [
           {
            "marker": {
             "colorbar": {
              "outlinewidth": 0,
              "ticks": ""
             }
            },
            "type": "scatterpolar"
           }
          ],
          "scatterpolargl": [
           {
            "marker": {
             "colorbar": {
              "outlinewidth": 0,
              "ticks": ""
             }
            },
            "type": "scatterpolargl"
           }
          ],
          "scatterternary": [
           {
            "marker": {
             "colorbar": {
              "outlinewidth": 0,
              "ticks": ""
             }
            },
            "type": "scatterternary"
           }
          ],
          "surface": [
           {
            "colorbar": {
             "outlinewidth": 0,
             "ticks": ""
            },
            "colorscale": [
             [
              0,
              "#0d0887"
             ],
             [
              0.1111111111111111,
              "#46039f"
             ],
             [
              0.2222222222222222,
              "#7201a8"
             ],
             [
              0.3333333333333333,
              "#9c179e"
             ],
             [
              0.4444444444444444,
              "#bd3786"
             ],
             [
              0.5555555555555556,
              "#d8576b"
             ],
             [
              0.6666666666666666,
              "#ed7953"
             ],
             [
              0.7777777777777778,
              "#fb9f3a"
             ],
             [
              0.8888888888888888,
              "#fdca26"
             ],
             [
              1,
              "#f0f921"
             ]
            ],
            "type": "surface"
           }
          ],
          "table": [
           {
            "cells": {
             "fill": {
              "color": "#EBF0F8"
             },
             "line": {
              "color": "white"
             }
            },
            "header": {
             "fill": {
              "color": "#C8D4E3"
             },
             "line": {
              "color": "white"
             }
            },
            "type": "table"
           }
          ]
         },
         "layout": {
          "annotationdefaults": {
           "arrowcolor": "#2a3f5f",
           "arrowhead": 0,
           "arrowwidth": 1
          },
          "coloraxis": {
           "colorbar": {
            "outlinewidth": 0,
            "ticks": ""
           }
          },
          "colorscale": {
           "diverging": [
            [
             0,
             "#8e0152"
            ],
            [
             0.1,
             "#c51b7d"
            ],
            [
             0.2,
             "#de77ae"
            ],
            [
             0.3,
             "#f1b6da"
            ],
            [
             0.4,
             "#fde0ef"
            ],
            [
             0.5,
             "#f7f7f7"
            ],
            [
             0.6,
             "#e6f5d0"
            ],
            [
             0.7,
             "#b8e186"
            ],
            [
             0.8,
             "#7fbc41"
            ],
            [
             0.9,
             "#4d9221"
            ],
            [
             1,
             "#276419"
            ]
           ],
           "sequential": [
            [
             0,
             "#0d0887"
            ],
            [
             0.1111111111111111,
             "#46039f"
            ],
            [
             0.2222222222222222,
             "#7201a8"
            ],
            [
             0.3333333333333333,
             "#9c179e"
            ],
            [
             0.4444444444444444,
             "#bd3786"
            ],
            [
             0.5555555555555556,
             "#d8576b"
            ],
            [
             0.6666666666666666,
             "#ed7953"
            ],
            [
             0.7777777777777778,
             "#fb9f3a"
            ],
            [
             0.8888888888888888,
             "#fdca26"
            ],
            [
             1,
             "#f0f921"
            ]
           ],
           "sequentialminus": [
            [
             0,
             "#0d0887"
            ],
            [
             0.1111111111111111,
             "#46039f"
            ],
            [
             0.2222222222222222,
             "#7201a8"
            ],
            [
             0.3333333333333333,
             "#9c179e"
            ],
            [
             0.4444444444444444,
             "#bd3786"
            ],
            [
             0.5555555555555556,
             "#d8576b"
            ],
            [
             0.6666666666666666,
             "#ed7953"
            ],
            [
             0.7777777777777778,
             "#fb9f3a"
            ],
            [
             0.8888888888888888,
             "#fdca26"
            ],
            [
             1,
             "#f0f921"
            ]
           ]
          },
          "colorway": [
           "#636efa",
           "#EF553B",
           "#00cc96",
           "#ab63fa",
           "#FFA15A",
           "#19d3f3",
           "#FF6692",
           "#B6E880",
           "#FF97FF",
           "#FECB52"
          ],
          "font": {
           "color": "#2a3f5f"
          },
          "geo": {
           "bgcolor": "white",
           "lakecolor": "white",
           "landcolor": "#E5ECF6",
           "showlakes": true,
           "showland": true,
           "subunitcolor": "white"
          },
          "hoverlabel": {
           "align": "left"
          },
          "hovermode": "closest",
          "mapbox": {
           "style": "light"
          },
          "paper_bgcolor": "white",
          "plot_bgcolor": "#E5ECF6",
          "polar": {
           "angularaxis": {
            "gridcolor": "white",
            "linecolor": "white",
            "ticks": ""
           },
           "bgcolor": "#E5ECF6",
           "radialaxis": {
            "gridcolor": "white",
            "linecolor": "white",
            "ticks": ""
           }
          },
          "scene": {
           "xaxis": {
            "backgroundcolor": "#E5ECF6",
            "gridcolor": "white",
            "gridwidth": 2,
            "linecolor": "white",
            "showbackground": true,
            "ticks": "",
            "zerolinecolor": "white"
           },
           "yaxis": {
            "backgroundcolor": "#E5ECF6",
            "gridcolor": "white",
            "gridwidth": 2,
            "linecolor": "white",
            "showbackground": true,
            "ticks": "",
            "zerolinecolor": "white"
           },
           "zaxis": {
            "backgroundcolor": "#E5ECF6",
            "gridcolor": "white",
            "gridwidth": 2,
            "linecolor": "white",
            "showbackground": true,
            "ticks": "",
            "zerolinecolor": "white"
           }
          },
          "shapedefaults": {
           "line": {
            "color": "#2a3f5f"
           }
          },
          "ternary": {
           "aaxis": {
            "gridcolor": "white",
            "linecolor": "white",
            "ticks": ""
           },
           "baxis": {
            "gridcolor": "white",
            "linecolor": "white",
            "ticks": ""
           },
           "bgcolor": "#E5ECF6",
           "caxis": {
            "gridcolor": "white",
            "linecolor": "white",
            "ticks": ""
           }
          },
          "title": {
           "x": 0.05
          },
          "xaxis": {
           "automargin": true,
           "gridcolor": "white",
           "linecolor": "white",
           "ticks": "",
           "title": {
            "standoff": 15
           },
           "zerolinecolor": "white",
           "zerolinewidth": 2
          },
          "yaxis": {
           "automargin": true,
           "gridcolor": "white",
           "linecolor": "white",
           "ticks": "",
           "title": {
            "standoff": 15
           },
           "zerolinecolor": "white",
           "zerolinewidth": 2
          }
         }
        },
        "width": 1000
       }
      },
      "text/html": [
       "<div>\n",
       "        \n",
       "        \n",
       "            <div id=\"4109a553-7dec-46f1-86a2-3c3aaf04a3b2\" class=\"plotly-graph-div\" style=\"height:800px; width:1000px;\"></div>\n",
       "            <script type=\"text/javascript\">\n",
       "                require([\"plotly\"], function(Plotly) {\n",
       "                    window.PLOTLYENV=window.PLOTLYENV || {};\n",
       "                    \n",
       "                if (document.getElementById(\"4109a553-7dec-46f1-86a2-3c3aaf04a3b2\")) {\n",
       "                    Plotly.newPlot(\n",
       "                        '4109a553-7dec-46f1-86a2-3c3aaf04a3b2',\n",
       "                        [{\"mode\": \"text\", \"name\": \"animal.n.01\", \"text\": [\"animal.n.01\"], \"textfont\": {\"color\": \"#1f77b4\"}, \"type\": \"scatter\", \"x\": [-1.2756515264511108], \"y\": [0.8587862429618836]}, {\"mode\": \"text\", \"name\": \"dog.n.01\", \"text\": [\"dog.n.01\"], \"textfont\": {\"color\": \"#ff7f0e\"}, \"type\": \"scatter\", \"x\": [-1.0352129459381103], \"y\": [1.051533537864685]}, {\"mode\": \"text\", \"name\": \"hound.n.01\", \"text\": [\"hound.n.01\"], \"textfont\": {\"color\": \"#2ca02c\"}, \"type\": \"scatter\", \"x\": [-0.8064545512199401], \"y\": [1.0596909103393555]}, {\"mode\": \"text\", \"name\": \"working_dog.n.01\", \"text\": [\"working_dog.n.01\"], \"textfont\": {\"color\": \"#d62728\"}, \"type\": \"scatter\", \"x\": [-0.9391568422317504], \"y\": [1.073743182182312]}, {\"mode\": \"text\", \"name\": \"domestic_animal.n.01\", \"text\": [\"domestic_animal.n.01\"], \"textfont\": {\"color\": \"#9467bd\"}, \"type\": \"scatter\", \"x\": [-1.1178781509399414], \"y\": [1.0174398002624512]}, {\"mode\": \"text\", \"name\": \"terrier.n.01\", \"text\": [\"terrier.n.01\"], \"textfont\": {\"color\": \"#8c564b\"}, \"type\": \"scatter\", \"x\": [-0.9081049680709838], \"y\": [1.0908652124404907]}, {\"mode\": \"text\", \"name\": \"caterpillar.n.01\", \"text\": [\"caterpillar.n.01\"], \"textfont\": {\"color\": \"#e377c2\"}, \"type\": \"scatter\", \"x\": [-0.9428223490715026], \"y\": [0.8999406275749207]}, {\"mode\": \"text\", \"name\": \"larva.n.01\", \"text\": [\"larva.n.01\"], \"textfont\": {\"color\": \"#7f7f7f\"}, \"type\": \"scatter\", \"x\": [-1.0256113529205322], \"y\": [0.885386305809021]}],\n",
       "                        {\"height\": 800, \"legend\": {\"x\": 0.8, \"y\": 1}, \"shapes\": [{\"line\": {\"color\": \"#1f77b4\"}, \"type\": \"rect\", \"x0\": -1.3256515264511108, \"x1\": -0.4576614499092102, \"y0\": 0.8527862429618835, \"y1\": 1.2844929695129395}, {\"line\": {\"color\": \"#ff7f0e\"}, \"type\": \"rect\", \"x0\": -1.0852129459381104, \"x1\": -0.6826506853103638, \"y0\": 1.045533537864685, \"y1\": 1.1646744012832642}, {\"line\": {\"color\": \"#2ca02c\"}, \"type\": \"rect\", \"x0\": -0.8564545512199402, \"x1\": -0.6737304329872131, \"y0\": 1.0536909103393555, \"y1\": 1.1019015312194824}, {\"line\": {\"color\": \"#d62728\"}, \"type\": \"rect\", \"x0\": -0.9891568422317505, \"x1\": -0.7603574991226196, \"y0\": 1.067743182182312, \"y1\": 1.13314950466156}, {\"line\": {\"color\": \"#9467bd\"}, \"type\": \"rect\", \"x0\": -1.1678781509399414, \"x1\": -0.690235435962677, \"y0\": 1.0114398002624512, \"y1\": 1.11700439453125}, {\"line\": {\"color\": \"#8c564b\"}, \"type\": \"rect\", \"x0\": -0.9581049680709839, \"x1\": -0.7853311896324158, \"y0\": 1.0848652124404907, \"y1\": 1.169417381286621}, {\"line\": {\"color\": \"#e377c2\"}, \"type\": \"rect\", \"x0\": -0.9928223490715027, \"x1\": -0.8595743775367737, \"y0\": 0.8939406275749207, \"y1\": 0.9827897548675537}, {\"line\": {\"color\": \"#7f7f7f\"}, \"type\": \"rect\", \"x0\": -1.0756113529205322, \"x1\": -0.8323628306388855, \"y0\": 0.879386305809021, \"y1\": 0.9383946657180786}], \"showlegend\": false, \"template\": {\"data\": {\"bar\": [{\"error_x\": {\"color\": \"#2a3f5f\"}, \"error_y\": {\"color\": \"#2a3f5f\"}, \"marker\": {\"line\": {\"color\": \"#E5ECF6\", \"width\": 0.5}}, \"type\": \"bar\"}], \"barpolar\": [{\"marker\": {\"line\": {\"color\": \"#E5ECF6\", \"width\": 0.5}}, \"type\": \"barpolar\"}], \"carpet\": [{\"aaxis\": {\"endlinecolor\": \"#2a3f5f\", \"gridcolor\": \"white\", \"linecolor\": \"white\", \"minorgridcolor\": \"white\", \"startlinecolor\": \"#2a3f5f\"}, \"baxis\": {\"endlinecolor\": \"#2a3f5f\", \"gridcolor\": \"white\", \"linecolor\": \"white\", \"minorgridcolor\": \"white\", \"startlinecolor\": \"#2a3f5f\"}, \"type\": \"carpet\"}], \"choropleth\": [{\"colorbar\": {\"outlinewidth\": 0, \"ticks\": \"\"}, \"type\": \"choropleth\"}], \"contour\": [{\"colorbar\": {\"outlinewidth\": 0, \"ticks\": \"\"}, \"colorscale\": [[0.0, \"#0d0887\"], [0.1111111111111111, \"#46039f\"], [0.2222222222222222, \"#7201a8\"], [0.3333333333333333, \"#9c179e\"], [0.4444444444444444, \"#bd3786\"], [0.5555555555555556, \"#d8576b\"], [0.6666666666666666, \"#ed7953\"], [0.7777777777777778, \"#fb9f3a\"], [0.8888888888888888, \"#fdca26\"], [1.0, \"#f0f921\"]], \"type\": \"contour\"}], \"contourcarpet\": [{\"colorbar\": {\"outlinewidth\": 0, \"ticks\": \"\"}, \"type\": \"contourcarpet\"}], \"heatmap\": [{\"colorbar\": {\"outlinewidth\": 0, \"ticks\": \"\"}, \"colorscale\": [[0.0, \"#0d0887\"], [0.1111111111111111, \"#46039f\"], [0.2222222222222222, \"#7201a8\"], [0.3333333333333333, \"#9c179e\"], [0.4444444444444444, \"#bd3786\"], [0.5555555555555556, \"#d8576b\"], [0.6666666666666666, \"#ed7953\"], [0.7777777777777778, \"#fb9f3a\"], [0.8888888888888888, \"#fdca26\"], [1.0, \"#f0f921\"]], \"type\": \"heatmap\"}], \"heatmapgl\": [{\"colorbar\": {\"outlinewidth\": 0, \"ticks\": \"\"}, \"colorscale\": [[0.0, \"#0d0887\"], [0.1111111111111111, \"#46039f\"], [0.2222222222222222, \"#7201a8\"], [0.3333333333333333, \"#9c179e\"], [0.4444444444444444, \"#bd3786\"], [0.5555555555555556, \"#d8576b\"], [0.6666666666666666, \"#ed7953\"], [0.7777777777777778, \"#fb9f3a\"], [0.8888888888888888, \"#fdca26\"], [1.0, \"#f0f921\"]], \"type\": \"heatmapgl\"}], \"histogram\": [{\"marker\": {\"colorbar\": {\"outlinewidth\": 0, \"ticks\": \"\"}}, \"type\": \"histogram\"}], \"histogram2d\": [{\"colorbar\": {\"outlinewidth\": 0, \"ticks\": \"\"}, \"colorscale\": [[0.0, \"#0d0887\"], [0.1111111111111111, \"#46039f\"], [0.2222222222222222, \"#7201a8\"], [0.3333333333333333, \"#9c179e\"], [0.4444444444444444, \"#bd3786\"], [0.5555555555555556, \"#d8576b\"], [0.6666666666666666, \"#ed7953\"], [0.7777777777777778, \"#fb9f3a\"], [0.8888888888888888, \"#fdca26\"], [1.0, \"#f0f921\"]], \"type\": \"histogram2d\"}], \"histogram2dcontour\": [{\"colorbar\": {\"outlinewidth\": 0, \"ticks\": \"\"}, \"colorscale\": [[0.0, \"#0d0887\"], [0.1111111111111111, \"#46039f\"], [0.2222222222222222, \"#7201a8\"], [0.3333333333333333, \"#9c179e\"], [0.4444444444444444, \"#bd3786\"], [0.5555555555555556, \"#d8576b\"], [0.6666666666666666, \"#ed7953\"], [0.7777777777777778, \"#fb9f3a\"], [0.8888888888888888, \"#fdca26\"], [1.0, \"#f0f921\"]], \"type\": \"histogram2dcontour\"}], \"mesh3d\": [{\"colorbar\": {\"outlinewidth\": 0, \"ticks\": \"\"}, \"type\": \"mesh3d\"}], \"parcoords\": [{\"line\": {\"colorbar\": {\"outlinewidth\": 0, \"ticks\": \"\"}}, \"type\": \"parcoords\"}], \"pie\": [{\"automargin\": true, \"type\": \"pie\"}], \"scatter\": [{\"marker\": {\"colorbar\": {\"outlinewidth\": 0, \"ticks\": \"\"}}, \"type\": \"scatter\"}], \"scatter3d\": [{\"line\": {\"colorbar\": {\"outlinewidth\": 0, \"ticks\": \"\"}}, \"marker\": {\"colorbar\": {\"outlinewidth\": 0, \"ticks\": \"\"}}, \"type\": \"scatter3d\"}], \"scattercarpet\": [{\"marker\": {\"colorbar\": {\"outlinewidth\": 0, \"ticks\": \"\"}}, \"type\": \"scattercarpet\"}], \"scattergeo\": [{\"marker\": {\"colorbar\": {\"outlinewidth\": 0, \"ticks\": \"\"}}, \"type\": \"scattergeo\"}], \"scattergl\": [{\"marker\": {\"colorbar\": {\"outlinewidth\": 0, \"ticks\": \"\"}}, \"type\": \"scattergl\"}], \"scattermapbox\": [{\"marker\": {\"colorbar\": {\"outlinewidth\": 0, \"ticks\": \"\"}}, \"type\": \"scattermapbox\"}], \"scatterpolar\": [{\"marker\": {\"colorbar\": {\"outlinewidth\": 0, \"ticks\": \"\"}}, \"type\": \"scatterpolar\"}], \"scatterpolargl\": [{\"marker\": {\"colorbar\": {\"outlinewidth\": 0, \"ticks\": \"\"}}, \"type\": \"scatterpolargl\"}], \"scatterternary\": [{\"marker\": {\"colorbar\": {\"outlinewidth\": 0, \"ticks\": \"\"}}, \"type\": \"scatterternary\"}], \"surface\": [{\"colorbar\": {\"outlinewidth\": 0, \"ticks\": \"\"}, \"colorscale\": [[0.0, \"#0d0887\"], [0.1111111111111111, \"#46039f\"], [0.2222222222222222, \"#7201a8\"], [0.3333333333333333, \"#9c179e\"], [0.4444444444444444, \"#bd3786\"], [0.5555555555555556, \"#d8576b\"], [0.6666666666666666, \"#ed7953\"], [0.7777777777777778, \"#fb9f3a\"], [0.8888888888888888, \"#fdca26\"], [1.0, \"#f0f921\"]], \"type\": \"surface\"}], \"table\": [{\"cells\": {\"fill\": {\"color\": \"#EBF0F8\"}, \"line\": {\"color\": \"white\"}}, \"header\": {\"fill\": {\"color\": \"#C8D4E3\"}, \"line\": {\"color\": \"white\"}}, \"type\": \"table\"}]}, \"layout\": {\"annotationdefaults\": {\"arrowcolor\": \"#2a3f5f\", \"arrowhead\": 0, \"arrowwidth\": 1}, \"coloraxis\": {\"colorbar\": {\"outlinewidth\": 0, \"ticks\": \"\"}}, \"colorscale\": {\"diverging\": [[0, \"#8e0152\"], [0.1, \"#c51b7d\"], [0.2, \"#de77ae\"], [0.3, \"#f1b6da\"], [0.4, \"#fde0ef\"], [0.5, \"#f7f7f7\"], [0.6, \"#e6f5d0\"], [0.7, \"#b8e186\"], [0.8, \"#7fbc41\"], [0.9, \"#4d9221\"], [1, \"#276419\"]], \"sequential\": [[0.0, \"#0d0887\"], [0.1111111111111111, \"#46039f\"], [0.2222222222222222, \"#7201a8\"], [0.3333333333333333, \"#9c179e\"], [0.4444444444444444, \"#bd3786\"], [0.5555555555555556, \"#d8576b\"], [0.6666666666666666, \"#ed7953\"], [0.7777777777777778, \"#fb9f3a\"], [0.8888888888888888, \"#fdca26\"], [1.0, \"#f0f921\"]], \"sequentialminus\": [[0.0, \"#0d0887\"], [0.1111111111111111, \"#46039f\"], [0.2222222222222222, \"#7201a8\"], [0.3333333333333333, \"#9c179e\"], [0.4444444444444444, \"#bd3786\"], [0.5555555555555556, \"#d8576b\"], [0.6666666666666666, \"#ed7953\"], [0.7777777777777778, \"#fb9f3a\"], [0.8888888888888888, \"#fdca26\"], [1.0, \"#f0f921\"]]}, \"colorway\": [\"#636efa\", \"#EF553B\", \"#00cc96\", \"#ab63fa\", \"#FFA15A\", \"#19d3f3\", \"#FF6692\", \"#B6E880\", \"#FF97FF\", \"#FECB52\"], \"font\": {\"color\": \"#2a3f5f\"}, \"geo\": {\"bgcolor\": \"white\", \"lakecolor\": \"white\", \"landcolor\": \"#E5ECF6\", \"showlakes\": true, \"showland\": true, \"subunitcolor\": \"white\"}, \"hoverlabel\": {\"align\": \"left\"}, \"hovermode\": \"closest\", \"mapbox\": {\"style\": \"light\"}, \"paper_bgcolor\": \"white\", \"plot_bgcolor\": \"#E5ECF6\", \"polar\": {\"angularaxis\": {\"gridcolor\": \"white\", \"linecolor\": \"white\", \"ticks\": \"\"}, \"bgcolor\": \"#E5ECF6\", \"radialaxis\": {\"gridcolor\": \"white\", \"linecolor\": \"white\", \"ticks\": \"\"}}, \"scene\": {\"xaxis\": {\"backgroundcolor\": \"#E5ECF6\", \"gridcolor\": \"white\", \"gridwidth\": 2, \"linecolor\": \"white\", \"showbackground\": true, \"ticks\": \"\", \"zerolinecolor\": \"white\"}, \"yaxis\": {\"backgroundcolor\": \"#E5ECF6\", \"gridcolor\": \"white\", \"gridwidth\": 2, \"linecolor\": \"white\", \"showbackground\": true, \"ticks\": \"\", \"zerolinecolor\": \"white\"}, \"zaxis\": {\"backgroundcolor\": \"#E5ECF6\", \"gridcolor\": \"white\", \"gridwidth\": 2, \"linecolor\": \"white\", \"showbackground\": true, \"ticks\": \"\", \"zerolinecolor\": \"white\"}}, \"shapedefaults\": {\"line\": {\"color\": \"#2a3f5f\"}}, \"ternary\": {\"aaxis\": {\"gridcolor\": \"white\", \"linecolor\": \"white\", \"ticks\": \"\"}, \"baxis\": {\"gridcolor\": \"white\", \"linecolor\": \"white\", \"ticks\": \"\"}, \"bgcolor\": \"#E5ECF6\", \"caxis\": {\"gridcolor\": \"white\", \"linecolor\": \"white\", \"ticks\": \"\"}}, \"title\": {\"x\": 0.05}, \"xaxis\": {\"automargin\": true, \"gridcolor\": \"white\", \"linecolor\": \"white\", \"ticks\": \"\", \"title\": {\"standoff\": 15}, \"zerolinecolor\": \"white\", \"zerolinewidth\": 2}, \"yaxis\": {\"automargin\": true, \"gridcolor\": \"white\", \"linecolor\": \"white\", \"ticks\": \"\", \"title\": {\"standoff\": 15}, \"zerolinecolor\": \"white\", \"zerolinewidth\": 2}}}, \"width\": 1000},\n",
       "                        {\"responsive\": true}\n",
       "                    ).then(function(){\n",
       "                            \n",
       "var gd = document.getElementById('4109a553-7dec-46f1-86a2-3c3aaf04a3b2');\n",
       "var x = new MutationObserver(function (mutations, observer) {{\n",
       "        var display = window.getComputedStyle(gd).display;\n",
       "        if (!display || display === 'none') {{\n",
       "            console.log([gd, 'removed!']);\n",
       "            Plotly.purge(gd);\n",
       "            observer.disconnect();\n",
       "        }}\n",
       "}});\n",
       "\n",
       "// Listen for the removal of the full notebook cells\n",
       "var notebookContainer = gd.closest('#notebook-container');\n",
       "if (notebookContainer) {{\n",
       "    x.observe(notebookContainer, {childList: true});\n",
       "}}\n",
       "\n",
       "// Listen for the clearing of the current output cell\n",
       "var outputEl = gd.closest('.output');\n",
       "if (outputEl) {{\n",
       "    x.observe(outputEl, {childList: true});\n",
       "}}\n",
       "\n",
       "                        })\n",
       "                };\n",
       "                });\n",
       "            </script>\n",
       "        </div>"
      ]
     },
     "metadata": {},
     "output_type": "display_data"
    }
   ],
   "source": [
    "\n",
    "\n",
    "# Create figure with scatter trace\n",
    "fig = go.Figure()\n",
    "add_boxes(nodes, fig)\n",
    "\n",
    "fig.update_layout(\n",
    "    width = 1000,\n",
    "    height = 800,\n",
    "    #yaxis = dict(\n",
    "    #  scaleanchor = \"x\",\n",
    "    #  scaleratio = 1,\n",
    "    #)\n",
    ")\n",
    "\n",
    "fig.update_layout(\n",
    "    legend=dict(\n",
    "        x=0.8,\n",
    "        y=1))\n",
    "\n",
    "\n",
    "fig.update_layout(showlegend=False)"
   ]
  },
  {
   "cell_type": "code",
   "execution_count": 232,
   "metadata": {},
   "outputs": [
    {
     "data": {
      "application/vnd.plotly.v1+json": {
       "config": {
        "plotlyServerURL": "https://plot.ly"
       },
       "data": [
        {
         "mode": "text",
         "name": "animal.n.01",
         "text": [
          "animal.n.01"
         ],
         "textfont": {
          "color": "#1f77b4"
         },
         "type": "scatter",
         "x": [
          -1.2756515264511108
         ],
         "y": [
          0.8587862429618836
         ]
        },
        {
         "mode": "text",
         "name": "dog.n.01",
         "text": [
          "dog.n.01"
         ],
         "textfont": {
          "color": "#ff7f0e"
         },
         "type": "scatter",
         "x": [
          -1.0352129459381103
         ],
         "y": [
          1.051533537864685
         ]
        },
        {
         "mode": "text",
         "name": "hound.n.01",
         "text": [
          "hound.n.01"
         ],
         "textfont": {
          "color": "#2ca02c"
         },
         "type": "scatter",
         "x": [
          -0.8064545512199401
         ],
         "y": [
          1.0596909103393555
         ]
        },
        {
         "mode": "text",
         "name": "working_dog.n.01",
         "text": [
          "working_dog.n.01"
         ],
         "textfont": {
          "color": "#d62728"
         },
         "type": "scatter",
         "x": [
          -0.9391568422317504
         ],
         "y": [
          1.073743182182312
         ]
        },
        {
         "mode": "text",
         "name": "domestic_animal.n.01",
         "text": [
          "domestic_animal.n.01"
         ],
         "textfont": {
          "color": "#9467bd"
         },
         "type": "scatter",
         "x": [
          -1.1178781509399414
         ],
         "y": [
          1.0174398002624512
         ]
        },
        {
         "mode": "text",
         "name": "terrier.n.01",
         "text": [
          "terrier.n.01"
         ],
         "textfont": {
          "color": "#8c564b"
         },
         "type": "scatter",
         "x": [
          -0.9081049680709838
         ],
         "y": [
          1.0908652124404907
         ]
        },
        {
         "mode": "text",
         "name": "caterpillar.n.01",
         "text": [
          "caterpillar.n.01"
         ],
         "textfont": {
          "color": "#e377c2"
         },
         "type": "scatter",
         "x": [
          -0.9428223490715026
         ],
         "y": [
          0.8999406275749207
         ]
        },
        {
         "mode": "text",
         "name": "larva.n.01",
         "text": [
          "larva.n.01"
         ],
         "textfont": {
          "color": "#7f7f7f"
         },
         "type": "scatter",
         "x": [
          -1.0256113529205322
         ],
         "y": [
          0.885386305809021
         ]
        }
       ],
       "layout": {
        "height": 800,
        "legend": {
         "x": 0.8,
         "y": 1
        },
        "shapes": [
         {
          "line": {
           "color": "#1f77b4"
          },
          "type": "rect",
          "x0": -1.3256515264511108,
          "x1": -0.4576614499092102,
          "y0": 0.8527862429618835,
          "y1": 1.2844929695129395
         },
         {
          "line": {
           "color": "#ff7f0e"
          },
          "type": "rect",
          "x0": -1.0852129459381104,
          "x1": -0.6826506853103638,
          "y0": 1.045533537864685,
          "y1": 1.1646744012832642
         },
         {
          "line": {
           "color": "#2ca02c"
          },
          "type": "rect",
          "x0": -0.8564545512199402,
          "x1": -0.6737304329872131,
          "y0": 1.0536909103393555,
          "y1": 1.1019015312194824
         },
         {
          "line": {
           "color": "#d62728"
          },
          "type": "rect",
          "x0": -0.9891568422317505,
          "x1": -0.7603574991226196,
          "y0": 1.067743182182312,
          "y1": 1.13314950466156
         },
         {
          "line": {
           "color": "#9467bd"
          },
          "type": "rect",
          "x0": -1.1678781509399414,
          "x1": -0.690235435962677,
          "y0": 1.0114398002624512,
          "y1": 1.11700439453125
         },
         {
          "line": {
           "color": "#8c564b"
          },
          "type": "rect",
          "x0": -0.9581049680709839,
          "x1": -0.7853311896324158,
          "y0": 1.0848652124404907,
          "y1": 1.169417381286621
         },
         {
          "line": {
           "color": "#e377c2"
          },
          "type": "rect",
          "x0": -0.9928223490715027,
          "x1": -0.8595743775367737,
          "y0": 0.8939406275749207,
          "y1": 0.9827897548675537
         },
         {
          "line": {
           "color": "#7f7f7f"
          },
          "type": "rect",
          "x0": -1.0756113529205322,
          "x1": -0.8323628306388855,
          "y0": 0.879386305809021,
          "y1": 0.9383946657180786
         }
        ],
        "showlegend": false,
        "template": {
         "data": {
          "bar": [
           {
            "error_x": {
             "color": "#2a3f5f"
            },
            "error_y": {
             "color": "#2a3f5f"
            },
            "marker": {
             "line": {
              "color": "#E5ECF6",
              "width": 0.5
             }
            },
            "type": "bar"
           }
          ],
          "barpolar": [
           {
            "marker": {
             "line": {
              "color": "#E5ECF6",
              "width": 0.5
             }
            },
            "type": "barpolar"
           }
          ],
          "carpet": [
           {
            "aaxis": {
             "endlinecolor": "#2a3f5f",
             "gridcolor": "white",
             "linecolor": "white",
             "minorgridcolor": "white",
             "startlinecolor": "#2a3f5f"
            },
            "baxis": {
             "endlinecolor": "#2a3f5f",
             "gridcolor": "white",
             "linecolor": "white",
             "minorgridcolor": "white",
             "startlinecolor": "#2a3f5f"
            },
            "type": "carpet"
           }
          ],
          "choropleth": [
           {
            "colorbar": {
             "outlinewidth": 0,
             "ticks": ""
            },
            "type": "choropleth"
           }
          ],
          "contour": [
           {
            "colorbar": {
             "outlinewidth": 0,
             "ticks": ""
            },
            "colorscale": [
             [
              0,
              "#0d0887"
             ],
             [
              0.1111111111111111,
              "#46039f"
             ],
             [
              0.2222222222222222,
              "#7201a8"
             ],
             [
              0.3333333333333333,
              "#9c179e"
             ],
             [
              0.4444444444444444,
              "#bd3786"
             ],
             [
              0.5555555555555556,
              "#d8576b"
             ],
             [
              0.6666666666666666,
              "#ed7953"
             ],
             [
              0.7777777777777778,
              "#fb9f3a"
             ],
             [
              0.8888888888888888,
              "#fdca26"
             ],
             [
              1,
              "#f0f921"
             ]
            ],
            "type": "contour"
           }
          ],
          "contourcarpet": [
           {
            "colorbar": {
             "outlinewidth": 0,
             "ticks": ""
            },
            "type": "contourcarpet"
           }
          ],
          "heatmap": [
           {
            "colorbar": {
             "outlinewidth": 0,
             "ticks": ""
            },
            "colorscale": [
             [
              0,
              "#0d0887"
             ],
             [
              0.1111111111111111,
              "#46039f"
             ],
             [
              0.2222222222222222,
              "#7201a8"
             ],
             [
              0.3333333333333333,
              "#9c179e"
             ],
             [
              0.4444444444444444,
              "#bd3786"
             ],
             [
              0.5555555555555556,
              "#d8576b"
             ],
             [
              0.6666666666666666,
              "#ed7953"
             ],
             [
              0.7777777777777778,
              "#fb9f3a"
             ],
             [
              0.8888888888888888,
              "#fdca26"
             ],
             [
              1,
              "#f0f921"
             ]
            ],
            "type": "heatmap"
           }
          ],
          "heatmapgl": [
           {
            "colorbar": {
             "outlinewidth": 0,
             "ticks": ""
            },
            "colorscale": [
             [
              0,
              "#0d0887"
             ],
             [
              0.1111111111111111,
              "#46039f"
             ],
             [
              0.2222222222222222,
              "#7201a8"
             ],
             [
              0.3333333333333333,
              "#9c179e"
             ],
             [
              0.4444444444444444,
              "#bd3786"
             ],
             [
              0.5555555555555556,
              "#d8576b"
             ],
             [
              0.6666666666666666,
              "#ed7953"
             ],
             [
              0.7777777777777778,
              "#fb9f3a"
             ],
             [
              0.8888888888888888,
              "#fdca26"
             ],
             [
              1,
              "#f0f921"
             ]
            ],
            "type": "heatmapgl"
           }
          ],
          "histogram": [
           {
            "marker": {
             "colorbar": {
              "outlinewidth": 0,
              "ticks": ""
             }
            },
            "type": "histogram"
           }
          ],
          "histogram2d": [
           {
            "colorbar": {
             "outlinewidth": 0,
             "ticks": ""
            },
            "colorscale": [
             [
              0,
              "#0d0887"
             ],
             [
              0.1111111111111111,
              "#46039f"
             ],
             [
              0.2222222222222222,
              "#7201a8"
             ],
             [
              0.3333333333333333,
              "#9c179e"
             ],
             [
              0.4444444444444444,
              "#bd3786"
             ],
             [
              0.5555555555555556,
              "#d8576b"
             ],
             [
              0.6666666666666666,
              "#ed7953"
             ],
             [
              0.7777777777777778,
              "#fb9f3a"
             ],
             [
              0.8888888888888888,
              "#fdca26"
             ],
             [
              1,
              "#f0f921"
             ]
            ],
            "type": "histogram2d"
           }
          ],
          "histogram2dcontour": [
           {
            "colorbar": {
             "outlinewidth": 0,
             "ticks": ""
            },
            "colorscale": [
             [
              0,
              "#0d0887"
             ],
             [
              0.1111111111111111,
              "#46039f"
             ],
             [
              0.2222222222222222,
              "#7201a8"
             ],
             [
              0.3333333333333333,
              "#9c179e"
             ],
             [
              0.4444444444444444,
              "#bd3786"
             ],
             [
              0.5555555555555556,
              "#d8576b"
             ],
             [
              0.6666666666666666,
              "#ed7953"
             ],
             [
              0.7777777777777778,
              "#fb9f3a"
             ],
             [
              0.8888888888888888,
              "#fdca26"
             ],
             [
              1,
              "#f0f921"
             ]
            ],
            "type": "histogram2dcontour"
           }
          ],
          "mesh3d": [
           {
            "colorbar": {
             "outlinewidth": 0,
             "ticks": ""
            },
            "type": "mesh3d"
           }
          ],
          "parcoords": [
           {
            "line": {
             "colorbar": {
              "outlinewidth": 0,
              "ticks": ""
             }
            },
            "type": "parcoords"
           }
          ],
          "pie": [
           {
            "automargin": true,
            "type": "pie"
           }
          ],
          "scatter": [
           {
            "marker": {
             "colorbar": {
              "outlinewidth": 0,
              "ticks": ""
             }
            },
            "type": "scatter"
           }
          ],
          "scatter3d": [
           {
            "line": {
             "colorbar": {
              "outlinewidth": 0,
              "ticks": ""
             }
            },
            "marker": {
             "colorbar": {
              "outlinewidth": 0,
              "ticks": ""
             }
            },
            "type": "scatter3d"
           }
          ],
          "scattercarpet": [
           {
            "marker": {
             "colorbar": {
              "outlinewidth": 0,
              "ticks": ""
             }
            },
            "type": "scattercarpet"
           }
          ],
          "scattergeo": [
           {
            "marker": {
             "colorbar": {
              "outlinewidth": 0,
              "ticks": ""
             }
            },
            "type": "scattergeo"
           }
          ],
          "scattergl": [
           {
            "marker": {
             "colorbar": {
              "outlinewidth": 0,
              "ticks": ""
             }
            },
            "type": "scattergl"
           }
          ],
          "scattermapbox": [
           {
            "marker": {
             "colorbar": {
              "outlinewidth": 0,
              "ticks": ""
             }
            },
            "type": "scattermapbox"
           }
          ],
          "scatterpolar": [
           {
            "marker": {
             "colorbar": {
              "outlinewidth": 0,
              "ticks": ""
             }
            },
            "type": "scatterpolar"
           }
          ],
          "scatterpolargl": [
           {
            "marker": {
             "colorbar": {
              "outlinewidth": 0,
              "ticks": ""
             }
            },
            "type": "scatterpolargl"
           }
          ],
          "scatterternary": [
           {
            "marker": {
             "colorbar": {
              "outlinewidth": 0,
              "ticks": ""
             }
            },
            "type": "scatterternary"
           }
          ],
          "surface": [
           {
            "colorbar": {
             "outlinewidth": 0,
             "ticks": ""
            },
            "colorscale": [
             [
              0,
              "#0d0887"
             ],
             [
              0.1111111111111111,
              "#46039f"
             ],
             [
              0.2222222222222222,
              "#7201a8"
             ],
             [
              0.3333333333333333,
              "#9c179e"
             ],
             [
              0.4444444444444444,
              "#bd3786"
             ],
             [
              0.5555555555555556,
              "#d8576b"
             ],
             [
              0.6666666666666666,
              "#ed7953"
             ],
             [
              0.7777777777777778,
              "#fb9f3a"
             ],
             [
              0.8888888888888888,
              "#fdca26"
             ],
             [
              1,
              "#f0f921"
             ]
            ],
            "type": "surface"
           }
          ],
          "table": [
           {
            "cells": {
             "fill": {
              "color": "#EBF0F8"
             },
             "line": {
              "color": "white"
             }
            },
            "header": {
             "fill": {
              "color": "#C8D4E3"
             },
             "line": {
              "color": "white"
             }
            },
            "type": "table"
           }
          ]
         },
         "layout": {
          "annotationdefaults": {
           "arrowcolor": "#2a3f5f",
           "arrowhead": 0,
           "arrowwidth": 1
          },
          "coloraxis": {
           "colorbar": {
            "outlinewidth": 0,
            "ticks": ""
           }
          },
          "colorscale": {
           "diverging": [
            [
             0,
             "#8e0152"
            ],
            [
             0.1,
             "#c51b7d"
            ],
            [
             0.2,
             "#de77ae"
            ],
            [
             0.3,
             "#f1b6da"
            ],
            [
             0.4,
             "#fde0ef"
            ],
            [
             0.5,
             "#f7f7f7"
            ],
            [
             0.6,
             "#e6f5d0"
            ],
            [
             0.7,
             "#b8e186"
            ],
            [
             0.8,
             "#7fbc41"
            ],
            [
             0.9,
             "#4d9221"
            ],
            [
             1,
             "#276419"
            ]
           ],
           "sequential": [
            [
             0,
             "#0d0887"
            ],
            [
             0.1111111111111111,
             "#46039f"
            ],
            [
             0.2222222222222222,
             "#7201a8"
            ],
            [
             0.3333333333333333,
             "#9c179e"
            ],
            [
             0.4444444444444444,
             "#bd3786"
            ],
            [
             0.5555555555555556,
             "#d8576b"
            ],
            [
             0.6666666666666666,
             "#ed7953"
            ],
            [
             0.7777777777777778,
             "#fb9f3a"
            ],
            [
             0.8888888888888888,
             "#fdca26"
            ],
            [
             1,
             "#f0f921"
            ]
           ],
           "sequentialminus": [
            [
             0,
             "#0d0887"
            ],
            [
             0.1111111111111111,
             "#46039f"
            ],
            [
             0.2222222222222222,
             "#7201a8"
            ],
            [
             0.3333333333333333,
             "#9c179e"
            ],
            [
             0.4444444444444444,
             "#bd3786"
            ],
            [
             0.5555555555555556,
             "#d8576b"
            ],
            [
             0.6666666666666666,
             "#ed7953"
            ],
            [
             0.7777777777777778,
             "#fb9f3a"
            ],
            [
             0.8888888888888888,
             "#fdca26"
            ],
            [
             1,
             "#f0f921"
            ]
           ]
          },
          "colorway": [
           "#636efa",
           "#EF553B",
           "#00cc96",
           "#ab63fa",
           "#FFA15A",
           "#19d3f3",
           "#FF6692",
           "#B6E880",
           "#FF97FF",
           "#FECB52"
          ],
          "font": {
           "color": "#2a3f5f"
          },
          "geo": {
           "bgcolor": "white",
           "lakecolor": "white",
           "landcolor": "#E5ECF6",
           "showlakes": true,
           "showland": true,
           "subunitcolor": "white"
          },
          "hoverlabel": {
           "align": "left"
          },
          "hovermode": "closest",
          "mapbox": {
           "style": "light"
          },
          "paper_bgcolor": "white",
          "plot_bgcolor": "#E5ECF6",
          "polar": {
           "angularaxis": {
            "gridcolor": "white",
            "linecolor": "white",
            "ticks": ""
           },
           "bgcolor": "#E5ECF6",
           "radialaxis": {
            "gridcolor": "white",
            "linecolor": "white",
            "ticks": ""
           }
          },
          "scene": {
           "xaxis": {
            "backgroundcolor": "#E5ECF6",
            "gridcolor": "white",
            "gridwidth": 2,
            "linecolor": "white",
            "showbackground": true,
            "ticks": "",
            "zerolinecolor": "white"
           },
           "yaxis": {
            "backgroundcolor": "#E5ECF6",
            "gridcolor": "white",
            "gridwidth": 2,
            "linecolor": "white",
            "showbackground": true,
            "ticks": "",
            "zerolinecolor": "white"
           },
           "zaxis": {
            "backgroundcolor": "#E5ECF6",
            "gridcolor": "white",
            "gridwidth": 2,
            "linecolor": "white",
            "showbackground": true,
            "ticks": "",
            "zerolinecolor": "white"
           }
          },
          "shapedefaults": {
           "line": {
            "color": "#2a3f5f"
           }
          },
          "ternary": {
           "aaxis": {
            "gridcolor": "white",
            "linecolor": "white",
            "ticks": ""
           },
           "baxis": {
            "gridcolor": "white",
            "linecolor": "white",
            "ticks": ""
           },
           "bgcolor": "#E5ECF6",
           "caxis": {
            "gridcolor": "white",
            "linecolor": "white",
            "ticks": ""
           }
          },
          "title": {
           "x": 0.05
          },
          "xaxis": {
           "automargin": true,
           "gridcolor": "white",
           "linecolor": "white",
           "ticks": "",
           "title": {
            "standoff": 15
           },
           "zerolinecolor": "white",
           "zerolinewidth": 2
          },
          "yaxis": {
           "automargin": true,
           "gridcolor": "white",
           "linecolor": "white",
           "ticks": "",
           "title": {
            "standoff": 15
           },
           "zerolinecolor": "white",
           "zerolinewidth": 2
          }
         }
        },
        "width": 1000
       }
      },
      "text/html": [
       "<div>\n",
       "        \n",
       "        \n",
       "            <div id=\"2f5027fa-7a72-4d8d-bfb1-2071cd4f2650\" class=\"plotly-graph-div\" style=\"height:800px; width:1000px;\"></div>\n",
       "            <script type=\"text/javascript\">\n",
       "                require([\"plotly\"], function(Plotly) {\n",
       "                    window.PLOTLYENV=window.PLOTLYENV || {};\n",
       "                    \n",
       "                if (document.getElementById(\"2f5027fa-7a72-4d8d-bfb1-2071cd4f2650\")) {\n",
       "                    Plotly.newPlot(\n",
       "                        '2f5027fa-7a72-4d8d-bfb1-2071cd4f2650',\n",
       "                        [{\"mode\": \"text\", \"name\": \"animal.n.01\", \"text\": [\"animal.n.01\"], \"textfont\": {\"color\": \"#1f77b4\"}, \"type\": \"scatter\", \"x\": [-1.2756515264511108], \"y\": [0.8587862429618836]}, {\"mode\": \"text\", \"name\": \"dog.n.01\", \"text\": [\"dog.n.01\"], \"textfont\": {\"color\": \"#ff7f0e\"}, \"type\": \"scatter\", \"x\": [-1.0352129459381103], \"y\": [1.051533537864685]}, {\"mode\": \"text\", \"name\": \"hound.n.01\", \"text\": [\"hound.n.01\"], \"textfont\": {\"color\": \"#2ca02c\"}, \"type\": \"scatter\", \"x\": [-0.8064545512199401], \"y\": [1.0596909103393555]}, {\"mode\": \"text\", \"name\": \"working_dog.n.01\", \"text\": [\"working_dog.n.01\"], \"textfont\": {\"color\": \"#d62728\"}, \"type\": \"scatter\", \"x\": [-0.9391568422317504], \"y\": [1.073743182182312]}, {\"mode\": \"text\", \"name\": \"domestic_animal.n.01\", \"text\": [\"domestic_animal.n.01\"], \"textfont\": {\"color\": \"#9467bd\"}, \"type\": \"scatter\", \"x\": [-1.1178781509399414], \"y\": [1.0174398002624512]}, {\"mode\": \"text\", \"name\": \"terrier.n.01\", \"text\": [\"terrier.n.01\"], \"textfont\": {\"color\": \"#8c564b\"}, \"type\": \"scatter\", \"x\": [-0.9081049680709838], \"y\": [1.0908652124404907]}, {\"mode\": \"text\", \"name\": \"caterpillar.n.01\", \"text\": [\"caterpillar.n.01\"], \"textfont\": {\"color\": \"#e377c2\"}, \"type\": \"scatter\", \"x\": [-0.9428223490715026], \"y\": [0.8999406275749207]}, {\"mode\": \"text\", \"name\": \"larva.n.01\", \"text\": [\"larva.n.01\"], \"textfont\": {\"color\": \"#7f7f7f\"}, \"type\": \"scatter\", \"x\": [-1.0256113529205322], \"y\": [0.885386305809021]}],\n",
       "                        {\"height\": 800, \"legend\": {\"x\": 0.8, \"y\": 1}, \"shapes\": [{\"line\": {\"color\": \"#1f77b4\"}, \"type\": \"rect\", \"x0\": -1.3256515264511108, \"x1\": -0.4576614499092102, \"y0\": 0.8527862429618835, \"y1\": 1.2844929695129395}, {\"line\": {\"color\": \"#ff7f0e\"}, \"type\": \"rect\", \"x0\": -1.0852129459381104, \"x1\": -0.6826506853103638, \"y0\": 1.045533537864685, \"y1\": 1.1646744012832642}, {\"line\": {\"color\": \"#2ca02c\"}, \"type\": \"rect\", \"x0\": -0.8564545512199402, \"x1\": -0.6737304329872131, \"y0\": 1.0536909103393555, \"y1\": 1.1019015312194824}, {\"line\": {\"color\": \"#d62728\"}, \"type\": \"rect\", \"x0\": -0.9891568422317505, \"x1\": -0.7603574991226196, \"y0\": 1.067743182182312, \"y1\": 1.13314950466156}, {\"line\": {\"color\": \"#9467bd\"}, \"type\": \"rect\", \"x0\": -1.1678781509399414, \"x1\": -0.690235435962677, \"y0\": 1.0114398002624512, \"y1\": 1.11700439453125}, {\"line\": {\"color\": \"#8c564b\"}, \"type\": \"rect\", \"x0\": -0.9581049680709839, \"x1\": -0.7853311896324158, \"y0\": 1.0848652124404907, \"y1\": 1.169417381286621}, {\"line\": {\"color\": \"#e377c2\"}, \"type\": \"rect\", \"x0\": -0.9928223490715027, \"x1\": -0.8595743775367737, \"y0\": 0.8939406275749207, \"y1\": 0.9827897548675537}, {\"line\": {\"color\": \"#7f7f7f\"}, \"type\": \"rect\", \"x0\": -1.0756113529205322, \"x1\": -0.8323628306388855, \"y0\": 0.879386305809021, \"y1\": 0.9383946657180786}], \"showlegend\": false, \"template\": {\"data\": {\"bar\": [{\"error_x\": {\"color\": \"#2a3f5f\"}, \"error_y\": {\"color\": \"#2a3f5f\"}, \"marker\": {\"line\": {\"color\": \"#E5ECF6\", \"width\": 0.5}}, \"type\": \"bar\"}], \"barpolar\": [{\"marker\": {\"line\": {\"color\": \"#E5ECF6\", \"width\": 0.5}}, \"type\": \"barpolar\"}], \"carpet\": [{\"aaxis\": {\"endlinecolor\": \"#2a3f5f\", \"gridcolor\": \"white\", \"linecolor\": \"white\", \"minorgridcolor\": \"white\", \"startlinecolor\": \"#2a3f5f\"}, \"baxis\": {\"endlinecolor\": \"#2a3f5f\", \"gridcolor\": \"white\", \"linecolor\": \"white\", \"minorgridcolor\": \"white\", \"startlinecolor\": \"#2a3f5f\"}, \"type\": \"carpet\"}], \"choropleth\": [{\"colorbar\": {\"outlinewidth\": 0, \"ticks\": \"\"}, \"type\": \"choropleth\"}], \"contour\": [{\"colorbar\": {\"outlinewidth\": 0, \"ticks\": \"\"}, \"colorscale\": [[0.0, \"#0d0887\"], [0.1111111111111111, \"#46039f\"], [0.2222222222222222, \"#7201a8\"], [0.3333333333333333, \"#9c179e\"], [0.4444444444444444, \"#bd3786\"], [0.5555555555555556, \"#d8576b\"], [0.6666666666666666, \"#ed7953\"], [0.7777777777777778, \"#fb9f3a\"], [0.8888888888888888, \"#fdca26\"], [1.0, \"#f0f921\"]], \"type\": \"contour\"}], \"contourcarpet\": [{\"colorbar\": {\"outlinewidth\": 0, \"ticks\": \"\"}, \"type\": \"contourcarpet\"}], \"heatmap\": [{\"colorbar\": {\"outlinewidth\": 0, \"ticks\": \"\"}, \"colorscale\": [[0.0, \"#0d0887\"], [0.1111111111111111, \"#46039f\"], [0.2222222222222222, \"#7201a8\"], [0.3333333333333333, \"#9c179e\"], [0.4444444444444444, \"#bd3786\"], [0.5555555555555556, \"#d8576b\"], [0.6666666666666666, \"#ed7953\"], [0.7777777777777778, \"#fb9f3a\"], [0.8888888888888888, \"#fdca26\"], [1.0, \"#f0f921\"]], \"type\": \"heatmap\"}], \"heatmapgl\": [{\"colorbar\": {\"outlinewidth\": 0, \"ticks\": \"\"}, \"colorscale\": [[0.0, \"#0d0887\"], [0.1111111111111111, \"#46039f\"], [0.2222222222222222, \"#7201a8\"], [0.3333333333333333, \"#9c179e\"], [0.4444444444444444, \"#bd3786\"], [0.5555555555555556, \"#d8576b\"], [0.6666666666666666, \"#ed7953\"], [0.7777777777777778, \"#fb9f3a\"], [0.8888888888888888, \"#fdca26\"], [1.0, \"#f0f921\"]], \"type\": \"heatmapgl\"}], \"histogram\": [{\"marker\": {\"colorbar\": {\"outlinewidth\": 0, \"ticks\": \"\"}}, \"type\": \"histogram\"}], \"histogram2d\": [{\"colorbar\": {\"outlinewidth\": 0, \"ticks\": \"\"}, \"colorscale\": [[0.0, \"#0d0887\"], [0.1111111111111111, \"#46039f\"], [0.2222222222222222, \"#7201a8\"], [0.3333333333333333, \"#9c179e\"], [0.4444444444444444, \"#bd3786\"], [0.5555555555555556, \"#d8576b\"], [0.6666666666666666, \"#ed7953\"], [0.7777777777777778, \"#fb9f3a\"], [0.8888888888888888, \"#fdca26\"], [1.0, \"#f0f921\"]], \"type\": \"histogram2d\"}], \"histogram2dcontour\": [{\"colorbar\": {\"outlinewidth\": 0, \"ticks\": \"\"}, \"colorscale\": [[0.0, \"#0d0887\"], [0.1111111111111111, \"#46039f\"], [0.2222222222222222, \"#7201a8\"], [0.3333333333333333, \"#9c179e\"], [0.4444444444444444, \"#bd3786\"], [0.5555555555555556, \"#d8576b\"], [0.6666666666666666, \"#ed7953\"], [0.7777777777777778, \"#fb9f3a\"], [0.8888888888888888, \"#fdca26\"], [1.0, \"#f0f921\"]], \"type\": \"histogram2dcontour\"}], \"mesh3d\": [{\"colorbar\": {\"outlinewidth\": 0, \"ticks\": \"\"}, \"type\": \"mesh3d\"}], \"parcoords\": [{\"line\": {\"colorbar\": {\"outlinewidth\": 0, \"ticks\": \"\"}}, \"type\": \"parcoords\"}], \"pie\": [{\"automargin\": true, \"type\": \"pie\"}], \"scatter\": [{\"marker\": {\"colorbar\": {\"outlinewidth\": 0, \"ticks\": \"\"}}, \"type\": \"scatter\"}], \"scatter3d\": [{\"line\": {\"colorbar\": {\"outlinewidth\": 0, \"ticks\": \"\"}}, \"marker\": {\"colorbar\": {\"outlinewidth\": 0, \"ticks\": \"\"}}, \"type\": \"scatter3d\"}], \"scattercarpet\": [{\"marker\": {\"colorbar\": {\"outlinewidth\": 0, \"ticks\": \"\"}}, \"type\": \"scattercarpet\"}], \"scattergeo\": [{\"marker\": {\"colorbar\": {\"outlinewidth\": 0, \"ticks\": \"\"}}, \"type\": \"scattergeo\"}], \"scattergl\": [{\"marker\": {\"colorbar\": {\"outlinewidth\": 0, \"ticks\": \"\"}}, \"type\": \"scattergl\"}], \"scattermapbox\": [{\"marker\": {\"colorbar\": {\"outlinewidth\": 0, \"ticks\": \"\"}}, \"type\": \"scattermapbox\"}], \"scatterpolar\": [{\"marker\": {\"colorbar\": {\"outlinewidth\": 0, \"ticks\": \"\"}}, \"type\": \"scatterpolar\"}], \"scatterpolargl\": [{\"marker\": {\"colorbar\": {\"outlinewidth\": 0, \"ticks\": \"\"}}, \"type\": \"scatterpolargl\"}], \"scatterternary\": [{\"marker\": {\"colorbar\": {\"outlinewidth\": 0, \"ticks\": \"\"}}, \"type\": \"scatterternary\"}], \"surface\": [{\"colorbar\": {\"outlinewidth\": 0, \"ticks\": \"\"}, \"colorscale\": [[0.0, \"#0d0887\"], [0.1111111111111111, \"#46039f\"], [0.2222222222222222, \"#7201a8\"], [0.3333333333333333, \"#9c179e\"], [0.4444444444444444, \"#bd3786\"], [0.5555555555555556, \"#d8576b\"], [0.6666666666666666, \"#ed7953\"], [0.7777777777777778, \"#fb9f3a\"], [0.8888888888888888, \"#fdca26\"], [1.0, \"#f0f921\"]], \"type\": \"surface\"}], \"table\": [{\"cells\": {\"fill\": {\"color\": \"#EBF0F8\"}, \"line\": {\"color\": \"white\"}}, \"header\": {\"fill\": {\"color\": \"#C8D4E3\"}, \"line\": {\"color\": \"white\"}}, \"type\": \"table\"}]}, \"layout\": {\"annotationdefaults\": {\"arrowcolor\": \"#2a3f5f\", \"arrowhead\": 0, \"arrowwidth\": 1}, \"coloraxis\": {\"colorbar\": {\"outlinewidth\": 0, \"ticks\": \"\"}}, \"colorscale\": {\"diverging\": [[0, \"#8e0152\"], [0.1, \"#c51b7d\"], [0.2, \"#de77ae\"], [0.3, \"#f1b6da\"], [0.4, \"#fde0ef\"], [0.5, \"#f7f7f7\"], [0.6, \"#e6f5d0\"], [0.7, \"#b8e186\"], [0.8, \"#7fbc41\"], [0.9, \"#4d9221\"], [1, \"#276419\"]], \"sequential\": [[0.0, \"#0d0887\"], [0.1111111111111111, \"#46039f\"], [0.2222222222222222, \"#7201a8\"], [0.3333333333333333, \"#9c179e\"], [0.4444444444444444, \"#bd3786\"], [0.5555555555555556, \"#d8576b\"], [0.6666666666666666, \"#ed7953\"], [0.7777777777777778, \"#fb9f3a\"], [0.8888888888888888, \"#fdca26\"], [1.0, \"#f0f921\"]], \"sequentialminus\": [[0.0, \"#0d0887\"], [0.1111111111111111, \"#46039f\"], [0.2222222222222222, \"#7201a8\"], [0.3333333333333333, \"#9c179e\"], [0.4444444444444444, \"#bd3786\"], [0.5555555555555556, \"#d8576b\"], [0.6666666666666666, \"#ed7953\"], [0.7777777777777778, \"#fb9f3a\"], [0.8888888888888888, \"#fdca26\"], [1.0, \"#f0f921\"]]}, \"colorway\": [\"#636efa\", \"#EF553B\", \"#00cc96\", \"#ab63fa\", \"#FFA15A\", \"#19d3f3\", \"#FF6692\", \"#B6E880\", \"#FF97FF\", \"#FECB52\"], \"font\": {\"color\": \"#2a3f5f\"}, \"geo\": {\"bgcolor\": \"white\", \"lakecolor\": \"white\", \"landcolor\": \"#E5ECF6\", \"showlakes\": true, \"showland\": true, \"subunitcolor\": \"white\"}, \"hoverlabel\": {\"align\": \"left\"}, \"hovermode\": \"closest\", \"mapbox\": {\"style\": \"light\"}, \"paper_bgcolor\": \"white\", \"plot_bgcolor\": \"#E5ECF6\", \"polar\": {\"angularaxis\": {\"gridcolor\": \"white\", \"linecolor\": \"white\", \"ticks\": \"\"}, \"bgcolor\": \"#E5ECF6\", \"radialaxis\": {\"gridcolor\": \"white\", \"linecolor\": \"white\", \"ticks\": \"\"}}, \"scene\": {\"xaxis\": {\"backgroundcolor\": \"#E5ECF6\", \"gridcolor\": \"white\", \"gridwidth\": 2, \"linecolor\": \"white\", \"showbackground\": true, \"ticks\": \"\", \"zerolinecolor\": \"white\"}, \"yaxis\": {\"backgroundcolor\": \"#E5ECF6\", \"gridcolor\": \"white\", \"gridwidth\": 2, \"linecolor\": \"white\", \"showbackground\": true, \"ticks\": \"\", \"zerolinecolor\": \"white\"}, \"zaxis\": {\"backgroundcolor\": \"#E5ECF6\", \"gridcolor\": \"white\", \"gridwidth\": 2, \"linecolor\": \"white\", \"showbackground\": true, \"ticks\": \"\", \"zerolinecolor\": \"white\"}}, \"shapedefaults\": {\"line\": {\"color\": \"#2a3f5f\"}}, \"ternary\": {\"aaxis\": {\"gridcolor\": \"white\", \"linecolor\": \"white\", \"ticks\": \"\"}, \"baxis\": {\"gridcolor\": \"white\", \"linecolor\": \"white\", \"ticks\": \"\"}, \"bgcolor\": \"#E5ECF6\", \"caxis\": {\"gridcolor\": \"white\", \"linecolor\": \"white\", \"ticks\": \"\"}}, \"title\": {\"x\": 0.05}, \"xaxis\": {\"automargin\": true, \"gridcolor\": \"white\", \"linecolor\": \"white\", \"ticks\": \"\", \"title\": {\"standoff\": 15}, \"zerolinecolor\": \"white\", \"zerolinewidth\": 2}, \"yaxis\": {\"automargin\": true, \"gridcolor\": \"white\", \"linecolor\": \"white\", \"ticks\": \"\", \"title\": {\"standoff\": 15}, \"zerolinecolor\": \"white\", \"zerolinewidth\": 2}}}, \"width\": 1000},\n",
       "                        {\"responsive\": true}\n",
       "                    ).then(function(){\n",
       "                            \n",
       "var gd = document.getElementById('2f5027fa-7a72-4d8d-bfb1-2071cd4f2650');\n",
       "var x = new MutationObserver(function (mutations, observer) {{\n",
       "        var display = window.getComputedStyle(gd).display;\n",
       "        if (!display || display === 'none') {{\n",
       "            console.log([gd, 'removed!']);\n",
       "            Plotly.purge(gd);\n",
       "            observer.disconnect();\n",
       "        }}\n",
       "}});\n",
       "\n",
       "// Listen for the removal of the full notebook cells\n",
       "var notebookContainer = gd.closest('#notebook-container');\n",
       "if (notebookContainer) {{\n",
       "    x.observe(notebookContainer, {childList: true});\n",
       "}}\n",
       "\n",
       "// Listen for the clearing of the current output cell\n",
       "var outputEl = gd.closest('.output');\n",
       "if (outputEl) {{\n",
       "    x.observe(outputEl, {childList: true});\n",
       "}}\n",
       "\n",
       "                        })\n",
       "                };\n",
       "                });\n",
       "            </script>\n",
       "        </div>"
      ]
     },
     "metadata": {},
     "output_type": "display_data"
    }
   ],
   "source": [
    "fig.show()"
   ]
  },
  {
   "cell_type": "code",
   "execution_count": null,
   "metadata": {},
   "outputs": [],
   "source": []
  },
  {
   "cell_type": "code",
   "execution_count": null,
   "metadata": {},
   "outputs": [],
   "source": []
  }
 ],
 "metadata": {
  "kernelspec": {
   "display_name": "Python 3",
   "language": "python",
   "name": "python3"
  },
  "language_info": {
   "codemirror_mode": {
    "name": "ipython",
    "version": 3
   },
   "file_extension": ".py",
   "mimetype": "text/x-python",
   "name": "python",
   "nbconvert_exporter": "python",
   "pygments_lexer": "ipython3",
   "version": "3.7.2"
  }
 },
 "nbformat": 4,
 "nbformat_minor": 2
}
