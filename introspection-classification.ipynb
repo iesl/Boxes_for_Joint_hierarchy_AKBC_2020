{
 "cells": [
  {
   "cell_type": "code",
   "execution_count": 1,
   "metadata": {},
   "outputs": [],
   "source": [
    "%load_ext autoreload\n",
    "%autoreload 2\n",
    "\n",
    "from typing import Dict, List, Iterator, Union, Any\n",
    "import logging\n",
    "import tempfile\n",
    "import json\n",
    "import shutil\n",
    "from pathlib import Path\n",
    "from pprint import pprint\n",
    "from models.utils.wandb import RunData\n",
    "from models.utils.allennlp import (\n",
    "    load_config, load_dataset_reader, load_iterator, load_model,load_best_metrics, load_modules, \n",
    "    load_outputs, create_onepass_generator)\n",
    "from allennlp.models import Model\n",
    "from allennlp.data import DatasetReader, DataIterator\n",
    "import pandas as pd\n",
    "from copy import deepcopy\n",
    "import plotly.graph_objs as go\n",
    "import numpy as np\n",
    "from ipywidgets import interact, fixed\n",
    "logging.basicConfig(\n",
    "    format=\"%(asctime)s - %(levelname)s - %(name)s - %(message)s\", level=logging.INFO)\n",
    "\n",
    "logger = logging.getLogger(__name__)\n"
   ]
  },
  {
   "cell_type": "code",
   "execution_count": 12,
   "metadata": {},
   "outputs": [],
   "source": [
    "# config\n",
    "RUN = 'ezmblr2o'\n",
    "EXTRA_MODULES = ['models', 'datasets']\n",
    "DATA_DIR = '/Users/dhruv/UnsyncedDocuments/IESL/kb_completion/models/.data'\n",
    "DOWNLOADS_DIR = '.models/AUG_NEW'\n",
    "#DOWNLOADS_DIR = '/var/folders/r2/8mbb22091rb4vq4xtd19bbw80000gn/T/tmp5ypyp_4a'"
   ]
  },
  {
   "cell_type": "code",
   "execution_count": 13,
   "metadata": {
    "scrolled": true
   },
   "outputs": [
    {
     "name": "stderr",
     "output_type": "stream",
     "text": [
      "2020-02-13 23:58:40,756 - INFO - __main__ - Downloading run files if needed...\n",
      "2020-02-13 23:58:41,401 - INFO - models.utils.wandb - Setting up download dir as .models/AUG_NEW/ezmblr2o\n",
      "2020-02-13 23:58:41,652 - INFO - models.utils.wandb - Downloading allennlp_serialization_dir/best.th\n",
      "2020-02-13 23:58:43,211 - INFO - models.utils.wandb - Downloading allennlp_serialization_dir/config.json\n",
      "2020-02-13 23:58:43,741 - INFO - models.utils.wandb - Downloading allennlp_serialization_dir/log/train/events.out.tfevents.1581630853.node139\n",
      "2020-02-13 23:58:48,572 - INFO - models.utils.wandb - Downloading allennlp_serialization_dir/metrics.json\n",
      "2020-02-13 23:58:57,932 - INFO - models.utils.wandb - Downloading allennlp_serialization_dir/model.tar.gz\n",
      "2020-02-13 23:58:59,667 - INFO - models.utils.wandb - Downloading allennlp_serialization_dir/model_state_epoch_1848.th\n",
      "2020-02-13 23:59:01,503 - INFO - models.utils.wandb - Downloading allennlp_serialization_dir/stderr.log\n",
      "2020-02-13 23:59:02,259 - INFO - models.utils.wandb - Downloading allennlp_serialization_dir/stdout.log\n",
      "2020-02-13 23:59:03,243 - INFO - models.utils.wandb - Downloading allennlp_serialization_dir/training_state_epoch_1848.th\n",
      "2020-02-13 23:59:06,013 - INFO - models.utils.wandb - Downloading allennlp_serialization_dir/vocabulary/non_padded_namespaces.txt\n",
      "2020-02-13 23:59:06,500 - INFO - models.utils.wandb - Downloading config.yaml\n",
      "2020-02-13 23:59:07,057 - INFO - models.utils.wandb - Downloading diff.patch\n",
      "2020-02-13 23:59:07,555 - INFO - models.utils.wandb - Downloading output.log\n",
      "2020-02-13 23:59:08,984 - INFO - models.utils.wandb - Downloading requirements.txt\n",
      "2020-02-13 23:59:09,474 - INFO - models.utils.wandb - Downloading wandb-metadata.json\n",
      "2020-02-13 23:59:09,834 - INFO - models.utils.wandb - Downloading wandb-summary.json\n"
     ]
    }
   ],
   "source": [
    "# get the run files\n",
    "logger.info(\"Downloading run files if needed...\")\n",
    "rd = RunData(RUN, group='iesl-boxes', project='kb-completion',\n",
    "             download_dir=Path(DOWNLOADS_DIR))\n",
    "\n",
    "rd.download_files(skip_patterns=['allennlp_serialization_dir/metrics_epoch_[\\d]+.json$'])"
   ]
  },
  {
   "cell_type": "code",
   "execution_count": 14,
   "metadata": {},
   "outputs": [
    {
     "name": "stderr",
     "output_type": "stream",
     "text": [
      "2020-02-13 23:59:10,328 - INFO - __main__ - Loading ['models', 'datasets'] for AllenNLP\n",
      "2020-02-13 23:59:10,427 - INFO - __main__ - Setting up config overrides ...\n",
      "2020-02-13 23:59:10,485 - INFO - allennlp.common.params - Converting Params object to dict; logging of default values will not occur when dictionary parameters are used subsequently.\n",
      "2020-02-13 23:59:10,486 - INFO - allennlp.common.params - CURRENTLY DEFINED PARAMETERS: \n",
      "2020-02-13 23:59:10,487 - INFO - allennlp.common.params - train_data_path = dummpy_path\n",
      "2020-02-13 23:59:10,496 - INFO - allennlp.common.params - validation_dataset_reader.all_datadir = /mnt/nfs/work1/mccallum/dhruveshpate/kb_completion/models/.data\n",
      "2020-02-13 23:59:10,497 - INFO - allennlp.common.params - validation_dataset_reader.dataset_name = AUG_NEW\n",
      "2020-02-13 23:59:10,502 - INFO - allennlp.common.params - validation_dataset_reader.type = classification-validation-dataset\n",
      "2020-02-13 23:59:10,503 - INFO - allennlp.common.params - validation_dataset_reader.validation_file = classification_samples_valid2id.txt\n",
      "2020-02-13 23:59:10,505 - INFO - allennlp.common.params - validation_iterator.batch_size = 5000\n",
      "2020-02-13 23:59:10,507 - INFO - allennlp.common.params - validation_iterator.cache_instances = True\n",
      "2020-02-13 23:59:10,509 - INFO - allennlp.common.params - validation_iterator.type = basic\n",
      "2020-02-13 23:59:10,512 - INFO - allennlp.common.params - trainer.callbacks = [{'debug': False, 'log_freq': 2, 'type': 'debug-validate'}, {'checkpointer': {'num_serialized_models_to_keep': 1}, 'type': 'checkpoint'}, {'patience': 100, 'type': 'track_metrics', 'validation_metric': '+fscore'}, {'debug': False, 'log_freq': 2, 'type': 'tensorboard_logging'}, {'debug': False, 'debug_log_freq': 2, 'type': 'log_metrics_to_wandb'}]\n",
      "2020-02-13 23:59:10,518 - INFO - allennlp.common.params - trainer.cuda_device = 0\n",
      "2020-02-13 23:59:10,522 - INFO - allennlp.common.params - trainer.num_epochs = 5000\n",
      "2020-02-13 23:59:10,527 - INFO - allennlp.common.params - trainer.optimizer.lr = 0.027326591091238986\n",
      "2020-02-13 23:59:10,537 - INFO - allennlp.common.params - trainer.optimizer.type = adam\n",
      "2020-02-13 23:59:10,539 - INFO - allennlp.common.params - trainer.shuffle = True\n",
      "2020-02-13 23:59:10,543 - INFO - allennlp.common.params - trainer.type = callback\n",
      "2020-02-13 23:59:10,545 - INFO - allennlp.common.params - datasets_for_vocab_creation = []\n",
      "2020-02-13 23:59:10,551 - INFO - allennlp.common.params - dataset_reader.all_datadir = /mnt/nfs/work1/mccallum/dhruveshpate/kb_completion/models/.data\n",
      "2020-02-13 23:59:10,558 - INFO - allennlp.common.params - dataset_reader.dataset_name = AUG_NEW\n",
      "2020-02-13 23:59:10,561 - INFO - allennlp.common.params - dataset_reader.mode = train\n",
      "2020-02-13 23:59:10,563 - INFO - allennlp.common.params - dataset_reader.type = openke-dataset\n",
      "2020-02-13 23:59:10,565 - INFO - allennlp.common.params - model.box_type = DeltaBoxTensor\n",
      "2020-02-13 23:59:10,573 - INFO - allennlp.common.params - model.debug = False\n",
      "2020-02-13 23:59:10,590 - INFO - allennlp.common.params - model.embedding_dim = 5\n",
      "2020-02-13 23:59:10,595 - INFO - allennlp.common.params - model.init_interval_center = 0.2\n",
      "2020-02-13 23:59:10,598 - INFO - allennlp.common.params - model.init_interval_delta = 1\n",
      "2020-02-13 23:59:10,600 - INFO - allennlp.common.params - model.num_entities = 164228\n",
      "2020-02-13 23:59:10,601 - INFO - allennlp.common.params - model.num_relations = 1\n",
      "2020-02-13 23:59:10,603 - INFO - allennlp.common.params - model.number_of_negative_samples_head = 1\n",
      "2020-02-13 23:59:10,605 - INFO - allennlp.common.params - model.number_of_negative_samples_tail = 1\n",
      "2020-02-13 23:59:10,606 - INFO - allennlp.common.params - model.regularization_weight = 0.0005379374518001385\n",
      "2020-02-13 23:59:10,610 - INFO - allennlp.common.params - model.single_box = true\n",
      "2020-02-13 23:59:10,612 - INFO - allennlp.common.params - model.softbox_temp = 1.8760174111822585\n",
      "2020-02-13 23:59:10,613 - INFO - allennlp.common.params - model.type = BCE-classification-split-neg-vol-penalty-box-model\n",
      "2020-02-13 23:59:10,614 - INFO - allennlp.common.params - iterator.batch_size = 20000\n",
      "2020-02-13 23:59:10,615 - INFO - allennlp.common.params - iterator.cache_instances = True\n",
      "2020-02-13 23:59:10,616 - INFO - allennlp.common.params - iterator.type = basic\n",
      "2020-02-13 23:59:10,617 - INFO - allennlp.common.params - validation_data_path = dummy_path\n",
      "2020-02-13 23:59:10,620 - INFO - allennlp.common.registrable - instantiating registered subclass BCE-classification-split-neg-vol-penalty-box-model of <class 'allennlp.models.model.Model'>\n",
      "2020-02-13 23:59:10,625 - INFO - allennlp.common.params - type = default\n",
      "2020-02-13 23:59:10,627 - INFO - allennlp.common.registrable - instantiating registered subclass default of <class 'allennlp.data.vocabulary.Vocabulary'>\n",
      "2020-02-13 23:59:10,630 - INFO - allennlp.data.vocabulary - Loading token dictionary from .models/AUG_NEW/ezmblr2o/allennlp_serialization_dir/vocabulary.\n",
      "2020-02-13 23:59:10,633 - INFO - allennlp.common.from_params - instantiating class <class 'allennlp.models.model.Model'> from params {'box_type': 'DeltaBoxTensor', 'debug': False, 'embedding_dim': 5, 'init_interval_center': 0.2, 'init_interval_delta': 1, 'num_entities': 164228, 'num_relations': 1, 'number_of_negative_samples_head': 1, 'number_of_negative_samples_tail': 1, 'regularization_weight': 0.0005379374518001385, 'single_box': 'true', 'softbox_temp': 1.8760174111822585, 'type': 'BCE-classification-split-neg-vol-penalty-box-model'} and extras {'vocab'}\n",
      "2020-02-13 23:59:10,635 - INFO - allennlp.common.params - model.type = BCE-classification-split-neg-vol-penalty-box-model\n",
      "2020-02-13 23:59:10,637 - INFO - allennlp.common.from_params - instantiating class <class 'models.box.bce_models.BCEBoxClassificationSplitNegVolPenaltyModel'> from params {'box_type': 'DeltaBoxTensor', 'debug': False, 'embedding_dim': 5, 'init_interval_center': 0.2, 'init_interval_delta': 1, 'num_entities': 164228, 'num_relations': 1, 'number_of_negative_samples_head': 1, 'number_of_negative_samples_tail': 1, 'regularization_weight': 0.0005379374518001385, 'single_box': 'true', 'softbox_temp': 1.8760174111822585} and extras {'vocab'}\n",
      "2020-02-13 23:59:10,638 - INFO - allennlp.common.params - model.num_entities = 164228\n",
      "2020-02-13 23:59:10,642 - INFO - allennlp.common.params - model.num_relations = 1\n",
      "2020-02-13 23:59:10,647 - INFO - allennlp.common.params - model.embedding_dim = 5\n",
      "2020-02-13 23:59:10,652 - INFO - allennlp.common.params - model.box_type = DeltaBoxTensor\n",
      "2020-02-13 23:59:10,661 - INFO - allennlp.common.params - model.single_box = true\n",
      "2020-02-13 23:59:10,668 - INFO - allennlp.common.params - model.softbox_temp = 1.8760174111822585\n",
      "2020-02-13 23:59:10,673 - INFO - allennlp.common.params - model.number_of_negative_samples_head = 1\n",
      "2020-02-13 23:59:10,686 - INFO - allennlp.common.params - model.number_of_negative_samples_tail = 1\n",
      "2020-02-13 23:59:10,695 - INFO - allennlp.common.params - model.debug = False\n",
      "2020-02-13 23:59:10,700 - INFO - allennlp.common.params - model.regularization_weight = 0.0005379374518001385\n",
      "2020-02-13 23:59:10,704 - INFO - allennlp.common.params - model.init_interval_center = 0.2\n",
      "2020-02-13 23:59:10,706 - INFO - allennlp.common.params - model.init_interval_delta = 1\n",
      "2020-02-13 23:59:10,743 - INFO - root - Loading a model trained before embedding extension was implemented; pass an explicit vocab namespace if you want to extend the vocabulary.\n",
      "2020-02-13 23:59:10,744 - INFO - root - Loading a model trained before embedding extension was implemented; pass an explicit vocab namespace if you want to extend the vocabulary.\n",
      "2020-02-13 23:59:10,760 - INFO - allennlp.common.from_params - instantiating class <class 'allennlp.data.dataset_readers.dataset_reader.DatasetReader'> from params {'type': 'classification-validation-dataset', 'dataset_name': 'AUG_NEW', 'all_datadir': '/Users/dhruv/UnsyncedDocuments/IESL/kb_completion/models/.data', 'validation_file': 'classification_samples_test2id.txt'} and extras set()\n",
      "2020-02-13 23:59:10,764 - INFO - allennlp.common.params - validation_dataset_reader.type = classification-validation-dataset\n",
      "2020-02-13 23:59:10,768 - INFO - allennlp.common.from_params - instantiating class <class 'datasets.dataset_readers.classification_validate.ClassificationValidationDatasetReader'> from params {'dataset_name': 'AUG_NEW', 'all_datadir': '/Users/dhruv/UnsyncedDocuments/IESL/kb_completion/models/.data', 'validation_file': 'classification_samples_test2id.txt'} and extras set()\n"
     ]
    },
    {
     "name": "stderr",
     "output_type": "stream",
     "text": [
      "2020-02-13 23:59:10,770 - INFO - allennlp.common.params - validation_dataset_reader.dataset_name = AUG_NEW\n",
      "2020-02-13 23:59:10,771 - INFO - allennlp.common.params - validation_dataset_reader.all_datadir = /Users/dhruv/UnsyncedDocuments/IESL/kb_completion/models/.data\n",
      "2020-02-13 23:59:10,774 - INFO - allennlp.common.params - validation_dataset_reader.validation_file = classification_samples_test2id.txt\n",
      "2020-02-13 23:59:10,776 - INFO - allennlp.common.from_params - instantiating class <class 'allennlp.data.iterators.data_iterator.DataIterator'> from params {'batch_size': 5000, 'cache_instances': True, 'type': 'basic'} and extras set()\n",
      "2020-02-13 23:59:10,779 - INFO - allennlp.common.params - validation_iterator.type = basic\n",
      "2020-02-13 23:59:10,781 - INFO - allennlp.common.from_params - instantiating class <class 'allennlp.data.iterators.basic_iterator.BasicIterator'> from params {'batch_size': 5000, 'cache_instances': True} and extras set()\n",
      "2020-02-13 23:59:10,784 - INFO - allennlp.common.params - validation_iterator.batch_size = 5000\n",
      "2020-02-13 23:59:10,785 - INFO - allennlp.common.params - validation_iterator.instances_per_epoch = None\n",
      "2020-02-13 23:59:10,787 - INFO - allennlp.common.params - validation_iterator.max_instances_in_memory = None\n",
      "2020-02-13 23:59:10,789 - INFO - allennlp.common.params - validation_iterator.cache_instances = True\n",
      "2020-02-13 23:59:10,792 - INFO - allennlp.common.params - validation_iterator.track_epoch = False\n",
      "2020-02-13 23:59:10,795 - INFO - allennlp.common.params - validation_iterator.maximum_samples_per_batch = None\n"
     ]
    }
   ],
   "source": [
    "\n",
    "# load modules\n",
    "logger.info(\"Loading {} for AllenNLP\".format(EXTRA_MODULES))\n",
    "load_modules(EXTRA_MODULES)\n",
    "\n",
    "# override the val dataset setup to become the test dataset setup\n",
    "overrides = {'validation_dataset_reader':\n",
    "             {\n",
    "                 'all_datadir': DATA_DIR,\n",
    "                 \"validation_file\": \"classification_samples_test2id.txt\"\n",
    "             }\n",
    "            }\n",
    "logger.info(\"Setting up config overrides ...\")\n",
    "\n",
    "# load config\n",
    "config = load_config(\n",
    "    rd.download_dir/\"allennlp_serialization_dir\", overrides_dict=overrides)\n",
    "#pprint(config.as_dict())\n",
    "\n",
    "# load best metrics\n",
    "best_metrics = load_best_metrics(rd.download_dir/\"allennlp_serialization_dir\")\n",
    "# load model\n",
    "model = load_model(rd.download_dir/\"allennlp_serialization_dir\", config=config)\n",
    "model.test_threshold = best_metrics['best_validation_threshold']\n",
    "\n",
    "# create dataset reader\n",
    "dataset_reader = load_dataset_reader(config=config)\n",
    "\n",
    "# create iterator\n",
    "# This will take time for the first time as it will create the cache\n",
    "iterator = load_iterator(config=config)\n",
    "generator = create_onepass_generator(iterator, dataset_reader)"
   ]
  },
  {
   "cell_type": "code",
   "execution_count": 15,
   "metadata": {},
   "outputs": [],
   "source": [
    "from typing import Iterator, Union, Any\n",
    "import torch, tqdm\n",
    "from allennlp.nn import util as nn_util\n",
    "\n",
    "def predict_loop_or_load(\n",
    "        model: Model,\n",
    "        dataset_iterator: Iterator,\n",
    "        device: str = 'cpu',\n",
    "        output_file: Union[str, Path] = 'output.jsonl',\n",
    "        force_repredict: bool = False) -> List[Dict[str, Any]]:\n",
    "    \"\"\"\n",
    "    Checks if results are already present in the output file. If the file exists reads it and returns\n",
    "    the contents. If it does not, runs the prediction loop and populates the file and returns results.\n",
    "    \"\"\"\n",
    "    # check\n",
    "    output_file: Path = Path(output_file)  # type: ignore\n",
    "\n",
    "    if output_file.exists():\n",
    "        if output_file.is_file():\n",
    "            logger.info(\"{} file already exists...\")\n",
    "\n",
    "            if force_repredict:\n",
    "                logger.info(\n",
    "                    \"force_repredict is True. Hence repredicting and overwritting\"\n",
    "                )\n",
    "            else:\n",
    "                logger.info(\"Reading results from the existing file \")\n",
    "\n",
    "                return load_outputs(output_file)\n",
    "\n",
    "    # Predict\n",
    "    device = 'cpu'\n",
    "\n",
    "    if device is 'cpu':\n",
    "        device_instance = torch.device('cpu')\n",
    "        device_int = -1\n",
    "    else:\n",
    "        device_instance = torch.device('cuda', 0)\n",
    "        device_int = 0\n",
    "    model = model.to(device=device_instance)\n",
    "    model.eval()\n",
    "    model.test()\n",
    "    with open(output_file, 'w') as f:\n",
    "        logger.info(\"Starting predictions ...\")\n",
    "\n",
    "        for i, input_batch in enumerate(tqdm.tqdm(dataset_iterator)):\n",
    "            input_batch_on_device = nn_util.move_to_device(\n",
    "                input_batch, device_int)\n",
    "            result = model.forward(**input_batch_on_device)\n",
    "            print(model.get_metrics())\n",
    "        logger.info('Prediction complete')\n",
    "        metrics = model.get_metrics()\n",
    "        logger.info(\"Test metrics\\n\")\n",
    "        print(metrics)\n",
    "        json.dump(metrics, f)\n",
    "    return metrics"
   ]
  },
  {
   "cell_type": "code",
   "execution_count": 16,
   "metadata": {
    "scrolled": true
   },
   "outputs": [
    {
     "name": "stderr",
     "output_type": "stream",
     "text": [
      "2020-02-13 23:59:31,033 - INFO - __main__ - Starting predictions ...\n",
      "1it [00:00,  2.86it/s]"
     ]
    },
    {
     "name": "stdout",
     "output_type": "stream",
     "text": [
      "{'precision': 1.0, 'recall': 0.6291999816894531, 'fscore': 0.7724035978317261}\n"
     ]
    },
    {
     "name": "stderr",
     "output_type": "stream",
     "text": [
      "\r",
      "2it [00:00,  2.93it/s]"
     ]
    },
    {
     "name": "stdout",
     "output_type": "stream",
     "text": [
      "{'precision': 1.0, 'recall': 0.6290000081062317, 'fscore': 0.7722529768943787}\n"
     ]
    },
    {
     "name": "stderr",
     "output_type": "stream",
     "text": [
      "\r",
      "3it [00:00,  3.00it/s]"
     ]
    },
    {
     "name": "stdout",
     "output_type": "stream",
     "text": [
      "{'precision': 1.0, 'recall': 0.6323333382606506, 'fscore': 0.7747600674629211}\n"
     ]
    },
    {
     "name": "stderr",
     "output_type": "stream",
     "text": [
      "\r",
      "4it [00:01,  2.94it/s]"
     ]
    },
    {
     "name": "stdout",
     "output_type": "stream",
     "text": [
      "{'precision': 1.0, 'recall': 0.6327999830245972, 'fscore': 0.7751102447509766}\n"
     ]
    },
    {
     "name": "stderr",
     "output_type": "stream",
     "text": [
      "\r",
      "5it [00:01,  2.81it/s]"
     ]
    },
    {
     "name": "stdout",
     "output_type": "stream",
     "text": [
      "{'precision': 1.0, 'recall': 0.6328399777412415, 'fscore': 0.7751402854919434}\n"
     ]
    },
    {
     "name": "stderr",
     "output_type": "stream",
     "text": [
      "\r",
      "6it [00:02,  2.91it/s]"
     ]
    },
    {
     "name": "stdout",
     "output_type": "stream",
     "text": [
      "{'precision': 1.0, 'recall': 0.6322333216667175, 'fscore': 0.7746849656105042}\n"
     ]
    },
    {
     "name": "stderr",
     "output_type": "stream",
     "text": [
      "\r",
      "7it [00:02,  2.78it/s]"
     ]
    },
    {
     "name": "stdout",
     "output_type": "stream",
     "text": [
      "{'precision': 1.0, 'recall': 0.6349714398384094, 'fscore': 0.7767370939254761}\n"
     ]
    },
    {
     "name": "stderr",
     "output_type": "stream",
     "text": [
      "\r",
      "8it [00:02,  2.85it/s]"
     ]
    },
    {
     "name": "stdout",
     "output_type": "stream",
     "text": [
      "{'precision': 1.0, 'recall': 0.6330249905586243, 'fscore': 0.7752790451049805}\n"
     ]
    },
    {
     "name": "stderr",
     "output_type": "stream",
     "text": [
      "\r",
      "9it [00:03,  2.74it/s]"
     ]
    },
    {
     "name": "stdout",
     "output_type": "stream",
     "text": [
      "{'precision': 1.0, 'recall': 0.6320222020149231, 'fscore': 0.7745264768600464}\n"
     ]
    },
    {
     "name": "stderr",
     "output_type": "stream",
     "text": [
      "\r",
      "10it [00:03,  2.45it/s]"
     ]
    },
    {
     "name": "stdout",
     "output_type": "stream",
     "text": [
      "{'precision': 1.0, 'recall': 0.632420003414154, 'fscore': 0.7748250961303711}\n"
     ]
    },
    {
     "name": "stderr",
     "output_type": "stream",
     "text": [
      "\r",
      "11it [00:04,  2.14it/s]"
     ]
    },
    {
     "name": "stdout",
     "output_type": "stream",
     "text": [
      "{'precision': 1.0, 'recall': 0.6318363547325134, 'fscore': 0.7743868827819824}\n"
     ]
    },
    {
     "name": "stderr",
     "output_type": "stream",
     "text": [
      "\r",
      "12it [00:04,  2.32it/s]"
     ]
    },
    {
     "name": "stdout",
     "output_type": "stream",
     "text": [
      "{'precision': 1.0, 'recall': 0.6313499808311462, 'fscore': 0.7740214467048645}\n"
     ]
    },
    {
     "name": "stderr",
     "output_type": "stream",
     "text": [
      "\r",
      "13it [00:04,  2.45it/s]"
     ]
    },
    {
     "name": "stdout",
     "output_type": "stream",
     "text": [
      "{'precision': 1.0, 'recall': 0.6313692331314087, 'fscore': 0.7740359902381897}\n"
     ]
    },
    {
     "name": "stderr",
     "output_type": "stream",
     "text": [
      "\r",
      "14it [00:05,  2.58it/s]"
     ]
    },
    {
     "name": "stdout",
     "output_type": "stream",
     "text": [
      "{'precision': 1.0, 'recall': 0.6315285563468933, 'fscore': 0.7741556763648987}\n"
     ]
    },
    {
     "name": "stderr",
     "output_type": "stream",
     "text": [
      "\r",
      "15it [00:05,  2.65it/s]"
     ]
    },
    {
     "name": "stdout",
     "output_type": "stream",
     "text": [
      "{'precision': 1.0, 'recall': 0.6316533088684082, 'fscore': 0.7742494344711304}\n"
     ]
    },
    {
     "name": "stderr",
     "output_type": "stream",
     "text": [
      "\r",
      "16it [00:06,  2.69it/s]"
     ]
    },
    {
     "name": "stdout",
     "output_type": "stream",
     "text": [
      "{'precision': 1.0, 'recall': 0.6320750117301941, 'fscore': 0.774566113948822}\n"
     ]
    },
    {
     "name": "stderr",
     "output_type": "stream",
     "text": [
      "\r",
      "17it [00:06,  2.69it/s]"
     ]
    },
    {
     "name": "stdout",
     "output_type": "stream",
     "text": [
      "{'precision': 1.0, 'recall': 0.6317294239997864, 'fscore': 0.77430659532547}\n"
     ]
    },
    {
     "name": "stderr",
     "output_type": "stream",
     "text": [
      "\r",
      "18it [00:07,  1.90it/s]"
     ]
    },
    {
     "name": "stdout",
     "output_type": "stream",
     "text": [
      "{'precision': 1.0, 'recall': 0.6309999823570251, 'fscore': 0.7737584114074707}\n"
     ]
    },
    {
     "name": "stderr",
     "output_type": "stream",
     "text": [
      "\r",
      "19it [00:09,  1.16s/it]"
     ]
    },
    {
     "name": "stdout",
     "output_type": "stream",
     "text": [
      "{'precision': 0.9999164342880249, 'recall': 0.6309027671813965, 'fscore': 0.7736603021621704}\n"
     ]
    },
    {
     "name": "stderr",
     "output_type": "stream",
     "text": [
      "\r",
      "20it [00:10,  1.10it/s]"
     ]
    },
    {
     "name": "stdout",
     "output_type": "stream",
     "text": [
      "{'precision': 0.9981809854507446, 'recall': 0.6309027671813965, 'fscore': 0.7731403112411499}\n"
     ]
    },
    {
     "name": "stderr",
     "output_type": "stream",
     "text": [
      "\r",
      "21it [00:10,  1.34it/s]"
     ]
    },
    {
     "name": "stdout",
     "output_type": "stream",
     "text": [
      "{'precision': 0.9962026476860046, 'recall': 0.6309027671813965, 'fscore': 0.772546112537384}\n"
     ]
    },
    {
     "name": "stderr",
     "output_type": "stream",
     "text": [
      "\r",
      "22it [00:10,  1.61it/s]"
     ]
    },
    {
     "name": "stdout",
     "output_type": "stream",
     "text": [
      "{'precision': 0.9946950674057007, 'recall': 0.6309027671813965, 'fscore': 0.7720924019813538}\n"
     ]
    },
    {
     "name": "stderr",
     "output_type": "stream",
     "text": [
      "\r",
      "23it [00:11,  1.81it/s]"
     ]
    },
    {
     "name": "stdout",
     "output_type": "stream",
     "text": [
      "{'precision': 0.9931755661964417, 'recall': 0.6309027671813965, 'fscore': 0.7716342806816101}\n"
     ]
    },
    {
     "name": "stderr",
     "output_type": "stream",
     "text": [
      "\r",
      "24it [00:11,  2.06it/s]"
     ]
    },
    {
     "name": "stdout",
     "output_type": "stream",
     "text": [
      "{'precision': 0.9913648962974548, 'recall': 0.6309027671813965, 'fscore': 0.771087110042572}\n"
     ]
    },
    {
     "name": "stderr",
     "output_type": "stream",
     "text": [
      "\r",
      "25it [00:12,  2.28it/s]"
     ]
    },
    {
     "name": "stdout",
     "output_type": "stream",
     "text": [
      "{'precision': 0.9894952774047852, 'recall': 0.6309027671813965, 'fscore': 0.7705209851264954}\n"
     ]
    },
    {
     "name": "stderr",
     "output_type": "stream",
     "text": [
      "\r",
      "26it [00:12,  2.43it/s]"
     ]
    },
    {
     "name": "stdout",
     "output_type": "stream",
     "text": [
      "{'precision': 0.9874370694160461, 'recall': 0.6309027671813965, 'fscore': 0.7698961496353149}\n"
     ]
    },
    {
     "name": "stderr",
     "output_type": "stream",
     "text": [
      "\r",
      "27it [00:12,  2.59it/s]"
     ]
    },
    {
     "name": "stdout",
     "output_type": "stream",
     "text": [
      "{'precision': 0.985484778881073, 'recall': 0.6309027671813965, 'fscore': 0.7693019509315491}\n"
     ]
    },
    {
     "name": "stderr",
     "output_type": "stream",
     "text": [
      "\r",
      "28it [00:13,  2.58it/s]"
     ]
    },
    {
     "name": "stdout",
     "output_type": "stream",
     "text": [
      "{'precision': 0.9838961958885193, 'recall': 0.6309027671813965, 'fscore': 0.7688174843788147}\n"
     ]
    },
    {
     "name": "stderr",
     "output_type": "stream",
     "text": [
      "\r",
      "29it [00:13,  2.73it/s]"
     ]
    },
    {
     "name": "stdout",
     "output_type": "stream",
     "text": [
      "{'precision': 0.9819256067276001, 'recall': 0.6309027671813965, 'fscore': 0.7682151198387146}\n"
     ]
    },
    {
     "name": "stderr",
     "output_type": "stream",
     "text": [
      "\r",
      "30it [00:13,  2.81it/s]"
     ]
    },
    {
     "name": "stdout",
     "output_type": "stream",
     "text": [
      "{'precision': 0.9800753593444824, 'recall': 0.6309027671813965, 'fscore': 0.7676482200622559}\n"
     ]
    },
    {
     "name": "stderr",
     "output_type": "stream",
     "text": [
      "\r",
      "31it [00:14,  2.91it/s]"
     ]
    },
    {
     "name": "stdout",
     "output_type": "stream",
     "text": [
      "{'precision': 0.977912187576294, 'recall': 0.6309027671813965, 'fscore': 0.7669838070869446}\n"
     ]
    },
    {
     "name": "stderr",
     "output_type": "stream",
     "text": [
      "\r",
      "32it [00:14,  2.97it/s]"
     ]
    },
    {
     "name": "stdout",
     "output_type": "stream",
     "text": [
      "{'precision': 0.9759018421173096, 'recall': 0.6309027671813965, 'fscore': 0.7663646936416626}\n"
     ]
    },
    {
     "name": "stderr",
     "output_type": "stream",
     "text": [
      "\r",
      "33it [00:14,  3.03it/s]"
     ]
    },
    {
     "name": "stdout",
     "output_type": "stream",
     "text": [
      "{'precision': 0.9741058945655823, 'recall': 0.6309027671813965, 'fscore': 0.7658103108406067}\n"
     ]
    },
    {
     "name": "stderr",
     "output_type": "stream",
     "text": [
      "\r",
      "34it [00:14,  3.07it/s]"
     ]
    },
    {
     "name": "stdout",
     "output_type": "stream",
     "text": [
      "{'precision': 0.9724904894828796, 'recall': 0.6309027671813965, 'fscore': 0.7653106451034546}\n"
     ]
    },
    {
     "name": "stderr",
     "output_type": "stream",
     "text": [
      "\r",
      "35it [00:15,  3.10it/s]"
     ]
    },
    {
     "name": "stdout",
     "output_type": "stream",
     "text": [
      "{'precision': 0.9709119200706482, 'recall': 0.6309027671813965, 'fscore': 0.7648212909698486}\n"
     ]
    },
    {
     "name": "stderr",
     "output_type": "stream",
     "text": [
      "\r",
      "36it [00:15,  3.12it/s]"
     ]
    },
    {
     "name": "stdout",
     "output_type": "stream",
     "text": [
      "{'precision': 0.9693542122840881, 'recall': 0.6309027671813965, 'fscore': 0.7643375992774963}\n"
     ]
    },
    {
     "name": "stderr",
     "output_type": "stream",
     "text": [
      "\r",
      "37it [00:15,  3.14it/s]"
     ]
    },
    {
     "name": "stdout",
     "output_type": "stream",
     "text": [
      "{'precision': 0.9674257636070251, 'recall': 0.6309027671813965, 'fscore': 0.7637372612953186}\n"
     ]
    },
    {
     "name": "stderr",
     "output_type": "stream",
     "text": [
      "\r",
      "38it [00:16,  3.15it/s]"
     ]
    },
    {
     "name": "stdout",
     "output_type": "stream",
     "text": [
      "{'precision': 0.9657232165336609, 'recall': 0.6309027671813965, 'fscore': 0.7632061839103699}\n"
     ]
    },
    {
     "name": "stderr",
     "output_type": "stream",
     "text": [
      "\r",
      "39it [00:16,  3.14it/s]"
     ]
    },
    {
     "name": "stdout",
     "output_type": "stream",
     "text": [
      "{'precision': 0.963995635509491, 'recall': 0.6309027671813965, 'fscore': 0.7626661062240601}\n"
     ]
    },
    {
     "name": "stderr",
     "output_type": "stream",
     "text": [
      "\r",
      "40it [00:16,  3.12it/s]"
     ]
    },
    {
     "name": "stdout",
     "output_type": "stream",
     "text": [
      "{'precision': 0.9622586965560913, 'recall': 0.6309027671813965, 'fscore': 0.7621219754219055}\n"
     ]
    },
    {
     "name": "stderr",
     "output_type": "stream",
     "text": [
      "\r",
      "41it [00:17,  3.13it/s]"
     ]
    },
    {
     "name": "stdout",
     "output_type": "stream",
     "text": [
      "{'precision': 0.9605434536933899, 'recall': 0.6309027671813965, 'fscore': 0.7615834474563599}\n"
     ]
    },
    {
     "name": "stderr",
     "output_type": "stream",
     "text": [
      "\r",
      "42it [00:17,  3.01it/s]"
     ]
    },
    {
     "name": "stdout",
     "output_type": "stream",
     "text": [
      "{'precision': 0.9588035345077515, 'recall': 0.6309027671813965, 'fscore': 0.7610359191894531}\n"
     ]
    },
    {
     "name": "stderr",
     "output_type": "stream",
     "text": [
      "\r",
      "43it [00:17,  3.04it/s]"
     ]
    },
    {
     "name": "stdout",
     "output_type": "stream",
     "text": [
      "{'precision': 0.9571005702018738, 'recall': 0.6309027671813965, 'fscore': 0.7604988217353821}\n"
     ]
    },
    {
     "name": "stderr",
     "output_type": "stream",
     "text": [
      "\r",
      "44it [00:18,  2.97it/s]"
     ]
    },
    {
     "name": "stdout",
     "output_type": "stream",
     "text": [
      "{'precision': 0.9553273320198059, 'recall': 0.6309027671813965, 'fscore': 0.7599385380744934}\n"
     ]
    },
    {
     "name": "stderr",
     "output_type": "stream",
     "text": [
      "\r",
      "45it [00:18,  2.92it/s]"
     ]
    },
    {
     "name": "stdout",
     "output_type": "stream",
     "text": [
      "{'precision': 0.9536823034286499, 'recall': 0.6309027671813965, 'fscore': 0.7594174742698669}\n"
     ]
    },
    {
     "name": "stderr",
     "output_type": "stream",
     "text": [
      "\r",
      "46it [00:18,  2.91it/s]"
     ]
    },
    {
     "name": "stdout",
     "output_type": "stream",
     "text": [
      "{'precision': 0.9518762826919556, 'recall': 0.6309027671813965, 'fscore': 0.7588441967964172}\n"
     ]
    },
    {
     "name": "stderr",
     "output_type": "stream",
     "text": [
      "\r",
      "47it [00:19,  2.96it/s]"
     ]
    },
    {
     "name": "stdout",
     "output_type": "stream",
     "text": [
      "{'precision': 0.9499261379241943, 'recall': 0.6309027671813965, 'fscore': 0.758223831653595}\n"
     ]
    },
    {
     "name": "stderr",
     "output_type": "stream",
     "text": [
      "\r",
      "48it [00:19,  2.96it/s]"
     ]
    },
    {
     "name": "stdout",
     "output_type": "stream",
     "text": [
      "{'precision': 0.9482846260070801, 'recall': 0.6309027671813965, 'fscore': 0.7577003240585327}\n"
     ]
    },
    {
     "name": "stderr",
     "output_type": "stream",
     "text": [
      "\r",
      "49it [00:19,  2.94it/s]"
     ]
    },
    {
     "name": "stdout",
     "output_type": "stream",
     "text": [
      "{'precision': 0.9464539885520935, 'recall': 0.6309027671813965, 'fscore': 0.7571152448654175}\n"
     ]
    },
    {
     "name": "stderr",
     "output_type": "stream",
     "text": [
      "\r",
      "50it [00:20,  2.95it/s]"
     ]
    },
    {
     "name": "stdout",
     "output_type": "stream",
     "text": [
      "{'precision': 0.9446155428886414, 'recall': 0.6309027671813965, 'fscore': 0.7565262913703918}\n"
     ]
    },
    {
     "name": "stderr",
     "output_type": "stream",
     "text": [
      "\r",
      "51it [00:20,  2.94it/s]"
     ]
    },
    {
     "name": "stdout",
     "output_type": "stream",
     "text": [
      "{'precision': 0.9427544474601746, 'recall': 0.6309027671813965, 'fscore': 0.7559287548065186}\n"
     ]
    },
    {
     "name": "stderr",
     "output_type": "stream",
     "text": [
      "\r",
      "52it [00:20,  2.96it/s]"
     ]
    },
    {
     "name": "stdout",
     "output_type": "stream",
     "text": [
      "{'precision': 0.9409155249595642, 'recall': 0.6309027671813965, 'fscore': 0.7553368806838989}\n"
     ]
    },
    {
     "name": "stderr",
     "output_type": "stream",
     "text": [
      "\r",
      "53it [00:21,  2.98it/s]"
     ]
    },
    {
     "name": "stdout",
     "output_type": "stream",
     "text": [
      "{'precision': 0.9391722083091736, 'recall': 0.6309027671813965, 'fscore': 0.7547745108604431}\n"
     ]
    },
    {
     "name": "stderr",
     "output_type": "stream",
     "text": [
      "\r",
      "54it [00:21,  3.01it/s]"
     ]
    },
    {
     "name": "stdout",
     "output_type": "stream",
     "text": [
      "{'precision': 0.9372003674507141, 'recall': 0.6309027671813965, 'fscore': 0.7541370391845703}\n"
     ]
    },
    {
     "name": "stderr",
     "output_type": "stream",
     "text": [
      "\r",
      "55it [00:21,  3.00it/s]"
     ]
    },
    {
     "name": "stdout",
     "output_type": "stream",
     "text": [
      "{'precision': 0.9356170892715454, 'recall': 0.6309027671813965, 'fscore': 0.753623902797699}\n"
     ]
    },
    {
     "name": "stderr",
     "output_type": "stream",
     "text": [
      "\r",
      "56it [00:22,  3.04it/s]"
     ]
    },
    {
     "name": "stdout",
     "output_type": "stream",
     "text": [
      "{'precision': 0.9339224696159363, 'recall': 0.6309027671813965, 'fscore': 0.7530735731124878}\n"
     ]
    },
    {
     "name": "stderr",
     "output_type": "stream",
     "text": [
      "\r",
      "57it [00:22,  3.04it/s]"
     ]
    },
    {
     "name": "stdout",
     "output_type": "stream",
     "text": [
      "{'precision': 0.9323793649673462, 'recall': 0.6309027671813965, 'fscore': 0.7525714635848999}\n"
     ]
    },
    {
     "name": "stderr",
     "output_type": "stream",
     "text": [
      "\r",
      "58it [00:22,  3.06it/s]"
     ]
    },
    {
     "name": "stdout",
     "output_type": "stream",
     "text": [
      "{'precision': 0.9309571981430054, 'recall': 0.6309027671813965, 'fscore': 0.7521076798439026}\n"
     ]
    },
    {
     "name": "stderr",
     "output_type": "stream",
     "text": [
      "\r",
      "59it [00:23,  3.08it/s]"
     ]
    },
    {
     "name": "stdout",
     "output_type": "stream",
     "text": [
      "{'precision': 0.929265022277832, 'recall': 0.6309027671813965, 'fscore': 0.7515549063682556}\n"
     ]
    },
    {
     "name": "stderr",
     "output_type": "stream",
     "text": [
      "\r",
      "60it [00:23,  3.12it/s]"
     ]
    },
    {
     "name": "stdout",
     "output_type": "stream",
     "text": [
      "{'precision': 0.9277516007423401, 'recall': 0.6309027671813965, 'fscore': 0.7510595321655273}\n"
     ]
    },
    {
     "name": "stderr",
     "output_type": "stream",
     "text": [
      "\r",
      "61it [00:23,  3.08it/s]"
     ]
    },
    {
     "name": "stdout",
     "output_type": "stream",
     "text": [
      "{'precision': 0.9260423183441162, 'recall': 0.6309027671813965, 'fscore': 0.7504987120628357}\n"
     ]
    },
    {
     "name": "stderr",
     "output_type": "stream",
     "text": [
      "\r",
      "62it [00:24,  3.05it/s]"
     ]
    },
    {
     "name": "stdout",
     "output_type": "stream",
     "text": [
      "{'precision': 0.924382209777832, 'recall': 0.6309027671813965, 'fscore': 0.7499529123306274}\n"
     ]
    },
    {
     "name": "stderr",
     "output_type": "stream",
     "text": [
      "\r",
      "63it [00:24,  3.00it/s]"
     ]
    },
    {
     "name": "stdout",
     "output_type": "stream",
     "text": [
      "{'precision': 0.9227423071861267, 'recall': 0.6309027671813965, 'fscore': 0.7494126558303833}\n"
     ]
    },
    {
     "name": "stderr",
     "output_type": "stream",
     "text": [
      "\r",
      "64it [00:24,  3.03it/s]"
     ]
    },
    {
     "name": "stdout",
     "output_type": "stream",
     "text": [
      "{'precision': 0.9210514426231384, 'recall': 0.6309027671813965, 'fscore': 0.748854398727417}\n"
     ]
    },
    {
     "name": "stderr",
     "output_type": "stream",
     "text": [
      "\r",
      "65it [00:25,  3.08it/s]"
     ]
    },
    {
     "name": "stdout",
     "output_type": "stream",
     "text": [
      "{'precision': 0.9192537069320679, 'recall': 0.6309027671813965, 'fscore': 0.7482595443725586}\n"
     ]
    },
    {
     "name": "stderr",
     "output_type": "stream",
     "text": [
      "\r",
      "66it [00:25,  3.11it/s]"
     ]
    },
    {
     "name": "stdout",
     "output_type": "stream",
     "text": [
      "{'precision': 0.9178712964057922, 'recall': 0.6309027671813965, 'fscore': 0.7478012442588806}\n"
     ]
    },
    {
     "name": "stderr",
     "output_type": "stream",
     "text": [
      "\r",
      "67it [00:25,  3.07it/s]"
     ]
    },
    {
     "name": "stdout",
     "output_type": "stream",
     "text": [
      "{'precision': 0.9163385629653931, 'recall': 0.6309027671813965, 'fscore': 0.7472919821739197}\n"
     ]
    },
    {
     "name": "stderr",
     "output_type": "stream",
     "text": [
      "\r",
      "68it [00:26,  3.03it/s]"
     ]
    },
    {
     "name": "stdout",
     "output_type": "stream",
     "text": [
      "{'precision': 0.9146710634231567, 'recall': 0.6309027671813965, 'fscore': 0.7467368841171265}\n"
     ]
    },
    {
     "name": "stderr",
     "output_type": "stream",
     "text": [
      "\r",
      "69it [00:26,  3.02it/s]"
     ]
    },
    {
     "name": "stdout",
     "output_type": "stream",
     "text": [
      "{'precision': 0.9129956960678101, 'recall': 0.6309027671813965, 'fscore': 0.7461780309677124}\n"
     ]
    },
    {
     "name": "stderr",
     "output_type": "stream",
     "text": [
      "\r",
      "70it [00:26,  3.06it/s]"
     ]
    },
    {
     "name": "stdout",
     "output_type": "stream",
     "text": [
      "{'precision': 0.9112431406974792, 'recall': 0.6309027671813965, 'fscore': 0.745591938495636}\n"
     ]
    },
    {
     "name": "stderr",
     "output_type": "stream",
     "text": [
      "\r",
      "71it [00:27,  2.98it/s]"
     ]
    },
    {
     "name": "stdout",
     "output_type": "stream",
     "text": [
      "{'precision': 0.9097048044204712, 'recall': 0.6309027671813965, 'fscore': 0.7450765371322632}\n"
     ]
    },
    {
     "name": "stderr",
     "output_type": "stream",
     "text": [
      "\r",
      "72it [00:27,  2.93it/s]"
     ]
    },
    {
     "name": "stdout",
     "output_type": "stream",
     "text": [
      "{'precision': 0.9079096913337708, 'recall': 0.6309027671813965, 'fscore': 0.7444737553596497}\n"
     ]
    },
    {
     "name": "stderr",
     "output_type": "stream",
     "text": [
      "\r",
      "73it [00:27,  2.91it/s]"
     ]
    },
    {
     "name": "stdout",
     "output_type": "stream",
     "text": [
      "{'precision': 0.9062452912330627, 'recall': 0.6309027671813965, 'fscore': 0.7439136505126953}\n"
     ]
    },
    {
     "name": "stderr",
     "output_type": "stream",
     "text": [
      "\r",
      "74it [00:28,  2.95it/s]"
     ]
    },
    {
     "name": "stdout",
     "output_type": "stream",
     "text": [
      "{'precision': 0.9045321941375732, 'recall': 0.6309027671813965, 'fscore': 0.7433357834815979}\n"
     ]
    },
    {
     "name": "stderr",
     "output_type": "stream",
     "text": [
      "\r",
      "75it [00:28,  2.96it/s]"
     ]
    },
    {
     "name": "stdout",
     "output_type": "stream",
     "text": [
      "{'precision': 0.902948260307312, 'recall': 0.6309027671813965, 'fscore': 0.7428004145622253}\n"
     ]
    },
    {
     "name": "stderr",
     "output_type": "stream",
     "text": [
      "\r",
      "76it [00:28,  3.00it/s]"
     ]
    },
    {
     "name": "stdout",
     "output_type": "stream",
     "text": [
      "{'precision': 0.901519238948822, 'recall': 0.6309027671813965, 'fscore': 0.7423163652420044}\n"
     ]
    },
    {
     "name": "stderr",
     "output_type": "stream",
     "text": [
      "\r",
      "77it [00:29,  2.95it/s]"
     ]
    },
    {
     "name": "stdout",
     "output_type": "stream",
     "text": [
      "{'precision': 0.8999187350273132, 'recall': 0.6309027671813965, 'fscore': 0.741773247718811}\n"
     ]
    },
    {
     "name": "stderr",
     "output_type": "stream",
     "text": [
      "\r",
      "78it [00:30,  1.57it/s]"
     ]
    },
    {
     "name": "stdout",
     "output_type": "stream",
     "text": [
      "{'precision': 0.8982969522476196, 'recall': 0.6309027671813965, 'fscore': 0.7412217259407043}\n"
     ]
    },
    {
     "name": "stderr",
     "output_type": "stream",
     "text": [
      "\r",
      "79it [00:31,  1.56it/s]"
     ]
    },
    {
     "name": "stdout",
     "output_type": "stream",
     "text": [
      "{'precision': 0.8966944217681885, 'recall': 0.6309027671813965, 'fscore': 0.7406756281852722}\n"
     ]
    },
    {
     "name": "stderr",
     "output_type": "stream",
     "text": [
      "\r",
      "80it [00:31,  1.71it/s]"
     ]
    },
    {
     "name": "stdout",
     "output_type": "stream",
     "text": [
      "{'precision': 0.8949100971221924, 'recall': 0.6309027671813965, 'fscore': 0.7400661706924438}\n"
     ]
    },
    {
     "name": "stderr",
     "output_type": "stream",
     "text": [
      "\r",
      "81it [00:32,  1.87it/s]"
     ]
    },
    {
     "name": "stdout",
     "output_type": "stream",
     "text": [
      "{'precision': 0.8933596014976501, 'recall': 0.6309027671813965, 'fscore': 0.7395354509353638}\n"
     ]
    },
    {
     "name": "stderr",
     "output_type": "stream",
     "text": [
      "\r",
      "82it [00:32,  2.00it/s]"
     ]
    },
    {
     "name": "stdout",
     "output_type": "stream",
     "text": [
      "{'precision': 0.8919740915298462, 'recall': 0.6309027671813965, 'fscore': 0.7390602827072144}\n"
     ]
    },
    {
     "name": "stderr",
     "output_type": "stream",
     "text": [
      "\r",
      "83it [00:32,  2.18it/s]"
     ]
    },
    {
     "name": "stdout",
     "output_type": "stream",
     "text": [
      "{'precision': 0.8902350068092346, 'recall': 0.6309027671813965, 'fscore': 0.7384626865386963}\n"
     ]
    },
    {
     "name": "stderr",
     "output_type": "stream",
     "text": [
      "\r",
      "84it [00:33,  2.34it/s]"
     ]
    },
    {
     "name": "stdout",
     "output_type": "stream",
     "text": [
      "{'precision': 0.8887271285057068, 'recall': 0.6309027671813965, 'fscore': 0.7379433512687683}\n"
     ]
    },
    {
     "name": "stderr",
     "output_type": "stream",
     "text": [
      "\r",
      "85it [00:33,  2.50it/s]"
     ]
    },
    {
     "name": "stdout",
     "output_type": "stream",
     "text": [
      "{'precision': 0.8871189951896667, 'recall': 0.6309027671813965, 'fscore': 0.7373883724212646}\n"
     ]
    },
    {
     "name": "stderr",
     "output_type": "stream",
     "text": [
      "\r",
      "86it [00:34,  2.37it/s]"
     ]
    },
    {
     "name": "stdout",
     "output_type": "stream",
     "text": [
      "{'precision': 0.8855036497116089, 'recall': 0.6309027671813965, 'fscore': 0.7368297576904297}\n"
     ]
    },
    {
     "name": "stderr",
     "output_type": "stream",
     "text": [
      "\r",
      "87it [00:34,  2.50it/s]"
     ]
    },
    {
     "name": "stdout",
     "output_type": "stream",
     "text": [
      "{'precision': 0.8841423988342285, 'recall': 0.6309027671813965, 'fscore': 0.7363580465316772}\n"
     ]
    },
    {
     "name": "stderr",
     "output_type": "stream",
     "text": [
      "\r",
      "88it [00:34,  2.62it/s]"
     ]
    },
    {
     "name": "stdout",
     "output_type": "stream",
     "text": [
      "{'precision': 0.8826680183410645, 'recall': 0.6309027671813965, 'fscore': 0.735846221446991}\n"
     ]
    },
    {
     "name": "stderr",
     "output_type": "stream",
     "text": [
      "\r",
      "89it [00:35,  2.74it/s]"
     ]
    },
    {
     "name": "stdout",
     "output_type": "stream",
     "text": [
      "{'precision': 0.8809390664100647, 'recall': 0.6309027671813965, 'fscore': 0.7352448105812073}\n"
     ]
    },
    {
     "name": "stderr",
     "output_type": "stream",
     "text": [
      "\r",
      "90it [00:35,  2.86it/s]"
     ]
    },
    {
     "name": "stdout",
     "output_type": "stream",
     "text": [
      "{'precision': 0.8794495463371277, 'recall': 0.6309027671813965, 'fscore': 0.7347254753112793}\n"
     ]
    },
    {
     "name": "stderr",
     "output_type": "stream",
     "text": [
      "\r",
      "91it [00:35,  2.84it/s]"
     ]
    },
    {
     "name": "stdout",
     "output_type": "stream",
     "text": [
      "{'precision': 0.8779779076576233, 'recall': 0.6309027671813965, 'fscore': 0.7342114448547363}\n"
     ]
    },
    {
     "name": "stderr",
     "output_type": "stream",
     "text": [
      "\r",
      "92it [00:36,  2.76it/s]"
     ]
    },
    {
     "name": "stdout",
     "output_type": "stream",
     "text": [
      "{'precision': 0.8765369057655334, 'recall': 0.6309027671813965, 'fscore': 0.733707070350647}\n"
     ]
    },
    {
     "name": "stderr",
     "output_type": "stream",
     "text": [
      "\r",
      "93it [00:36,  2.83it/s]"
     ]
    },
    {
     "name": "stdout",
     "output_type": "stream",
     "text": [
      "{'precision': 0.8751261830329895, 'recall': 0.6309027671813965, 'fscore': 0.733212411403656}\n"
     ]
    },
    {
     "name": "stderr",
     "output_type": "stream",
     "text": [
      "\r",
      "94it [00:36,  2.74it/s]"
     ]
    },
    {
     "name": "stdout",
     "output_type": "stream",
     "text": [
      "{'precision': 0.873873233795166, 'recall': 0.6309027671813965, 'fscore': 0.7327722311019897}\n"
     ]
    },
    {
     "name": "stderr",
     "output_type": "stream",
     "text": [
      "\r",
      "95it [00:37,  2.73it/s]"
     ]
    },
    {
     "name": "stdout",
     "output_type": "stream",
     "text": [
      "{'precision': 0.8723183870315552, 'recall': 0.6309027671813965, 'fscore': 0.7322250604629517}\n"
     ]
    },
    {
     "name": "stderr",
     "output_type": "stream",
     "text": [
      "\r",
      "96it [00:37,  2.74it/s]"
     ]
    },
    {
     "name": "stdout",
     "output_type": "stream",
     "text": [
      "{'precision': 0.8708198070526123, 'recall': 0.6309027671813965, 'fscore': 0.731696605682373}\n"
     ]
    },
    {
     "name": "stderr",
     "output_type": "stream",
     "text": [
      "\r",
      "97it [00:37,  2.78it/s]"
     ]
    },
    {
     "name": "stdout",
     "output_type": "stream",
     "text": [
      "{'precision': 0.8696929216384888, 'recall': 0.6309027671813965, 'fscore': 0.7312985062599182}\n"
     ]
    },
    {
     "name": "stderr",
     "output_type": "stream",
     "text": [
      "\r",
      "98it [00:38,  2.78it/s]"
     ]
    },
    {
     "name": "stdout",
     "output_type": "stream",
     "text": [
      "{'precision': 0.8681907057762146, 'recall': 0.6309027671813965, 'fscore': 0.7307668328285217}\n"
     ]
    },
    {
     "name": "stderr",
     "output_type": "stream",
     "text": [
      "\r",
      "99it [00:38,  2.86it/s]"
     ]
    },
    {
     "name": "stdout",
     "output_type": "stream",
     "text": [
      "{'precision': 0.8664928078651428, 'recall': 0.6309027671813965, 'fscore': 0.7301647663116455}\n"
     ]
    },
    {
     "name": "stderr",
     "output_type": "stream",
     "text": [
      "\r",
      "100it [00:38,  2.86it/s]"
     ]
    },
    {
     "name": "stdout",
     "output_type": "stream",
     "text": [
      "{'precision': 0.8653520345687866, 'recall': 0.6309027671813965, 'fscore': 0.7297593355178833}\n"
     ]
    },
    {
     "name": "stderr",
     "output_type": "stream",
     "text": [
      "\r",
      "101it [00:39,  2.88it/s]"
     ]
    },
    {
     "name": "stdout",
     "output_type": "stream",
     "text": [
      "{'precision': 0.8639271855354309, 'recall': 0.6309027671813965, 'fscore': 0.7292523384094238}\n"
     ]
    },
    {
     "name": "stderr",
     "output_type": "stream",
     "text": [
      "\r",
      "102it [00:39,  2.86it/s]"
     ]
    },
    {
     "name": "stdout",
     "output_type": "stream",
     "text": [
      "{'precision': 0.8625816702842712, 'recall': 0.6309027671813965, 'fscore': 0.7287724614143372}\n"
     ]
    },
    {
     "name": "stderr",
     "output_type": "stream",
     "text": [
      "\r",
      "103it [00:40,  2.85it/s]"
     ]
    },
    {
     "name": "stdout",
     "output_type": "stream",
     "text": [
      "{'precision': 0.8610419631004333, 'recall': 0.6309027671813965, 'fscore': 0.7282223105430603}\n"
     ]
    },
    {
     "name": "stderr",
     "output_type": "stream",
     "text": [
      "\r",
      "104it [00:43,  1.19s/it]"
     ]
    },
    {
     "name": "stdout",
     "output_type": "stream",
     "text": [
      "{'precision': 0.8598536849021912, 'recall': 0.6309027671813965, 'fscore': 0.7277969717979431}\n"
     ]
    },
    {
     "name": "stderr",
     "output_type": "stream",
     "text": [
      "\r",
      "105it [00:43,  1.04it/s]"
     ]
    },
    {
     "name": "stdout",
     "output_type": "stream",
     "text": [
      "{'precision': 0.8583852648735046, 'recall': 0.6309027671813965, 'fscore': 0.7272704243659973}\n"
     ]
    },
    {
     "name": "stderr",
     "output_type": "stream",
     "text": [
      "\r",
      "106it [00:43,  1.29it/s]"
     ]
    },
    {
     "name": "stdout",
     "output_type": "stream",
     "text": [
      "{'precision': 0.8567990660667419, 'recall': 0.6309027671813965, 'fscore': 0.7267005443572998}\n"
     ]
    },
    {
     "name": "stderr",
     "output_type": "stream",
     "text": [
      "\r",
      "107it [00:44,  1.56it/s]"
     ]
    },
    {
     "name": "stdout",
     "output_type": "stream",
     "text": [
      "{'precision': 0.8554388880729675, 'recall': 0.6309027671813965, 'fscore': 0.72621089220047}\n"
     ]
    },
    {
     "name": "stderr",
     "output_type": "stream",
     "text": [
      "\r",
      "108it [00:44,  1.83it/s]"
     ]
    },
    {
     "name": "stdout",
     "output_type": "stream",
     "text": [
      "{'precision': 0.8540709018707275, 'recall': 0.6309027671813965, 'fscore': 0.7257175445556641}\n"
     ]
    },
    {
     "name": "stderr",
     "output_type": "stream",
     "text": [
      "\r",
      "109it [00:44,  2.08it/s]"
     ]
    },
    {
     "name": "stdout",
     "output_type": "stream",
     "text": [
      "{'precision': 0.8525856733322144, 'recall': 0.6309027671813965, 'fscore': 0.7251808047294617}\n"
     ]
    },
    {
     "name": "stderr",
     "output_type": "stream",
     "text": [
      "\r",
      "110it [00:45,  2.30it/s]"
     ]
    },
    {
     "name": "stdout",
     "output_type": "stream",
     "text": [
      "{'precision': 0.8510329723358154, 'recall': 0.6309027671813965, 'fscore': 0.7246185541152954}\n"
     ]
    },
    {
     "name": "stderr",
     "output_type": "stream",
     "text": [
      "\r",
      "111it [00:45,  2.49it/s]"
     ]
    },
    {
     "name": "stdout",
     "output_type": "stream",
     "text": [
      "{'precision': 0.8494617342948914, 'recall': 0.6309027671813965, 'fscore': 0.724048376083374}\n"
     ]
    },
    {
     "name": "stderr",
     "output_type": "stream",
     "text": [
      "\r",
      "112it [00:45,  2.66it/s]"
     ]
    },
    {
     "name": "stdout",
     "output_type": "stream",
     "text": [
      "{'precision': 0.8479564785957336, 'recall': 0.6309027671813965, 'fscore': 0.7235010266304016}\n"
     ]
    },
    {
     "name": "stderr",
     "output_type": "stream",
     "text": [
      "\r",
      "113it [00:46,  2.76it/s]"
     ]
    },
    {
     "name": "stdout",
     "output_type": "stream",
     "text": [
      "{'precision': 0.8468160033226013, 'recall': 0.6309027671813965, 'fscore': 0.7230855226516724}\n"
     ]
    },
    {
     "name": "stderr",
     "output_type": "stream",
     "text": [
      "\r",
      "114it [00:46,  2.87it/s]"
     ]
    },
    {
     "name": "stdout",
     "output_type": "stream",
     "text": [
      "{'precision': 0.8454633951187134, 'recall': 0.6309027671813965, 'fscore': 0.7225919961929321}\n"
     ]
    },
    {
     "name": "stderr",
     "output_type": "stream",
     "text": [
      "\r",
      "115it [00:46,  2.95it/s]"
     ]
    },
    {
     "name": "stdout",
     "output_type": "stream",
     "text": [
      "{'precision': 0.8439960479736328, 'recall': 0.6309027671813965, 'fscore': 0.7220556139945984}\n"
     ]
    },
    {
     "name": "stderr",
     "output_type": "stream",
     "text": [
      "\r",
      "116it [00:47,  2.95it/s]"
     ]
    },
    {
     "name": "stdout",
     "output_type": "stream",
     "text": [
      "{'precision': 0.8427474498748779, 'recall': 0.6309027671813965, 'fscore': 0.721598207950592}\n"
     ]
    },
    {
     "name": "stderr",
     "output_type": "stream",
     "text": [
      "\r",
      "117it [00:47,  2.99it/s]"
     ]
    },
    {
     "name": "stdout",
     "output_type": "stream",
     "text": [
      "{'precision': 0.8412894606590271, 'recall': 0.6309027671813965, 'fscore': 0.7210631966590881}\n"
     ]
    },
    {
     "name": "stderr",
     "output_type": "stream",
     "text": [
      "\r",
      "118it [00:47,  2.96it/s]"
     ]
    },
    {
     "name": "stdout",
     "output_type": "stream",
     "text": [
      "{'precision': 0.8398365378379822, 'recall': 0.6309027671813965, 'fscore': 0.7205290198326111}\n"
     ]
    },
    {
     "name": "stderr",
     "output_type": "stream",
     "text": [
      "\r",
      "119it [00:48,  2.98it/s]"
     ]
    },
    {
     "name": "stdout",
     "output_type": "stream",
     "text": [
      "{'precision': 0.8386119604110718, 'recall': 0.6309027671813965, 'fscore': 0.7200779914855957}\n"
     ]
    },
    {
     "name": "stderr",
     "output_type": "stream",
     "text": [
      "\r",
      "120it [00:48,  2.99it/s]"
     ]
    },
    {
     "name": "stdout",
     "output_type": "stream",
     "text": [
      "{'precision': 0.8372972011566162, 'recall': 0.6309027671813965, 'fscore': 0.7195929288864136}\n"
     ]
    },
    {
     "name": "stderr",
     "output_type": "stream",
     "text": [
      "\r",
      "121it [00:48,  2.99it/s]"
     ]
    },
    {
     "name": "stdout",
     "output_type": "stream",
     "text": [
      "{'precision': 0.8359397649765015, 'recall': 0.6309027671813965, 'fscore': 0.7190911173820496}\n"
     ]
    },
    {
     "name": "stderr",
     "output_type": "stream",
     "text": [
      "\r",
      "122it [00:49,  2.96it/s]"
     ]
    },
    {
     "name": "stdout",
     "output_type": "stream",
     "text": [
      "{'precision': 0.8346100449562073, 'recall': 0.6309027671813965, 'fscore': 0.7185987234115601}\n"
     ]
    },
    {
     "name": "stderr",
     "output_type": "stream",
     "text": [
      "\r",
      "123it [00:49,  2.97it/s]"
     ]
    },
    {
     "name": "stdout",
     "output_type": "stream",
     "text": [
      "{'precision': 0.8332149386405945, 'recall': 0.6309027671813965, 'fscore': 0.7180810570716858}\n"
     ]
    },
    {
     "name": "stderr",
     "output_type": "stream",
     "text": [
      "\r",
      "124it [00:49,  2.96it/s]"
     ]
    },
    {
     "name": "stdout",
     "output_type": "stream",
     "text": [
      "{'precision': 0.8320095539093018, 'recall': 0.6309027671813965, 'fscore': 0.717633068561554}\n"
     ]
    },
    {
     "name": "stderr",
     "output_type": "stream",
     "text": [
      "\r",
      "125it [00:50,  3.00it/s]"
     ]
    },
    {
     "name": "stdout",
     "output_type": "stream",
     "text": [
      "{'precision': 0.8308307528495789, 'recall': 0.6309027671813965, 'fscore': 0.7171941995620728}\n"
     ]
    },
    {
     "name": "stderr",
     "output_type": "stream",
     "text": [
      "\r",
      "126it [00:50,  2.98it/s]"
     ]
    },
    {
     "name": "stdout",
     "output_type": "stream",
     "text": [
      "{'precision': 0.8297703862190247, 'recall': 0.6309027671813965, 'fscore': 0.7167989015579224}\n"
     ]
    },
    {
     "name": "stderr",
     "output_type": "stream",
     "text": [
      "\r",
      "127it [00:50,  3.00it/s]"
     ]
    },
    {
     "name": "stdout",
     "output_type": "stream",
     "text": [
      "{'precision': 0.828494668006897, 'recall': 0.6309027671813965, 'fscore': 0.7163224816322327}\n"
     ]
    },
    {
     "name": "stderr",
     "output_type": "stream",
     "text": [
      "\r",
      "128it [00:51,  3.01it/s]"
     ]
    },
    {
     "name": "stdout",
     "output_type": "stream",
     "text": [
      "{'precision': 0.8274288177490234, 'recall': 0.6309027671813965, 'fscore': 0.7159237861633301}\n"
     ]
    },
    {
     "name": "stderr",
     "output_type": "stream",
     "text": [
      "\r",
      "129it [00:51,  2.94it/s]"
     ]
    },
    {
     "name": "stdout",
     "output_type": "stream",
     "text": [
      "{'precision': 0.8260118961334229, 'recall': 0.6309027671813965, 'fscore': 0.7153928875923157}\n"
     ]
    },
    {
     "name": "stderr",
     "output_type": "stream",
     "text": [
      "\r",
      "130it [00:51,  2.93it/s]"
     ]
    },
    {
     "name": "stdout",
     "output_type": "stream",
     "text": [
      "{'precision': 0.8248614072799683, 'recall': 0.6309027671813965, 'fscore': 0.7149609923362732}\n"
     ]
    },
    {
     "name": "stderr",
     "output_type": "stream",
     "text": [
      "\r",
      "131it [00:52,  2.95it/s]"
     ]
    },
    {
     "name": "stdout",
     "output_type": "stream",
     "text": [
      "{'precision': 0.8234533071517944, 'recall': 0.6309027671813965, 'fscore': 0.7144315838813782}\n"
     ]
    },
    {
     "name": "stderr",
     "output_type": "stream",
     "text": [
      "\r",
      "132it [00:52,  2.98it/s]"
     ]
    },
    {
     "name": "stdout",
     "output_type": "stream",
     "text": [
      "{'precision': 0.8220273852348328, 'recall': 0.6309027671813965, 'fscore': 0.7138943672180176}\n"
     ]
    },
    {
     "name": "stderr",
     "output_type": "stream",
     "text": [
      "\r",
      "133it [00:52,  2.96it/s]"
     ]
    },
    {
     "name": "stdout",
     "output_type": "stream",
     "text": [
      "{'precision': 0.820854127407074, 'recall': 0.6309027671813965, 'fscore': 0.7134515643119812}\n"
     ]
    },
    {
     "name": "stderr",
     "output_type": "stream",
     "text": [
      "\r",
      "134it [00:53,  2.96it/s]"
     ]
    },
    {
     "name": "stdout",
     "output_type": "stream",
     "text": [
      "{'precision': 0.8194933533668518, 'recall': 0.6309027671813965, 'fscore': 0.7129371762275696}\n"
     ]
    },
    {
     "name": "stderr",
     "output_type": "stream",
     "text": [
      "\r",
      "135it [00:53,  2.96it/s]"
     ]
    },
    {
     "name": "stdout",
     "output_type": "stream",
     "text": [
      "{'precision': 0.8183721303939819, 'recall': 0.6309027671813965, 'fscore': 0.7125124931335449}\n"
     ]
    },
    {
     "name": "stderr",
     "output_type": "stream",
     "text": [
      "\r",
      "136it [00:53,  2.94it/s]"
     ]
    },
    {
     "name": "stdout",
     "output_type": "stream",
     "text": [
      "{'precision': 0.8169079422950745, 'recall': 0.6309027671813965, 'fscore': 0.7119570374488831}\n"
     ]
    },
    {
     "name": "stderr",
     "output_type": "stream",
     "text": [
      "\r",
      "137it [00:54,  2.89it/s]"
     ]
    },
    {
     "name": "stdout",
     "output_type": "stream",
     "text": [
      "{'precision': 0.8154823780059814, 'recall': 0.6309027671813965, 'fscore': 0.7114150524139404}\n"
     ]
    },
    {
     "name": "stderr",
     "output_type": "stream",
     "text": [
      "\r",
      "138it [00:54,  2.91it/s]"
     ]
    },
    {
     "name": "stdout",
     "output_type": "stream",
     "text": [
      "{'precision': 0.8142944574356079, 'recall': 0.6309027671813965, 'fscore': 0.7109625935554504}\n"
     ]
    },
    {
     "name": "stderr",
     "output_type": "stream",
     "text": [
      "\r",
      "139it [00:54,  2.95it/s]"
     ]
    },
    {
     "name": "stdout",
     "output_type": "stream",
     "text": [
      "{'precision': 0.8130768537521362, 'recall': 0.6309027671813965, 'fscore': 0.7104981541633606}\n"
     ]
    },
    {
     "name": "stderr",
     "output_type": "stream",
     "text": [
      "\r",
      "140it [00:55,  2.98it/s]"
     ]
    },
    {
     "name": "stdout",
     "output_type": "stream",
     "text": [
      "{'precision': 0.8117857575416565, 'recall': 0.6309027671813965, 'fscore': 0.7100048065185547}\n"
     ]
    },
    {
     "name": "stderr",
     "output_type": "stream",
     "text": [
      "\r",
      "141it [00:55,  2.98it/s]"
     ]
    },
    {
     "name": "stdout",
     "output_type": "stream",
     "text": [
      "{'precision': 0.8105427026748657, 'recall': 0.6309027671813965, 'fscore': 0.709528923034668}\n"
     ]
    },
    {
     "name": "stderr",
     "output_type": "stream",
     "text": [
      "\r",
      "142it [00:55,  3.01it/s]"
     ]
    },
    {
     "name": "stdout",
     "output_type": "stream",
     "text": [
      "{'precision': 0.809412956237793, 'recall': 0.6309027671813965, 'fscore': 0.7090957760810852}\n"
     ]
    },
    {
     "name": "stderr",
     "output_type": "stream",
     "text": [
      "\r",
      "143it [00:56,  3.02it/s]"
     ]
    },
    {
     "name": "stdout",
     "output_type": "stream",
     "text": [
      "{'precision': 0.8081771731376648, 'recall': 0.6309027671813965, 'fscore': 0.708621084690094}\n"
     ]
    },
    {
     "name": "stderr",
     "output_type": "stream",
     "text": [
      "\r",
      "144it [00:56,  3.02it/s]"
     ]
    },
    {
     "name": "stdout",
     "output_type": "stream",
     "text": [
      "{'precision': 0.8070104718208313, 'recall': 0.6309027671813965, 'fscore': 0.7081723213195801}\n"
     ]
    },
    {
     "name": "stderr",
     "output_type": "stream",
     "text": [
      "\r",
      "145it [00:56,  2.89it/s]"
     ]
    },
    {
     "name": "stdout",
     "output_type": "stream",
     "text": [
      "{'precision': 0.8057385087013245, 'recall': 0.6309027671813965, 'fscore': 0.707682192325592}\n"
     ]
    },
    {
     "name": "stderr",
     "output_type": "stream",
     "text": [
      "\r",
      "146it [00:57,  2.73it/s]"
     ]
    },
    {
     "name": "stdout",
     "output_type": "stream",
     "text": [
      "{'precision': 0.8044381737709045, 'recall': 0.6309027671813965, 'fscore': 0.7071801424026489}\n"
     ]
    },
    {
     "name": "stderr",
     "output_type": "stream",
     "text": [
      "\r",
      "147it [00:57,  2.77it/s]"
     ]
    },
    {
     "name": "stdout",
     "output_type": "stream",
     "text": [
      "{'precision': 0.8031527996063232, 'recall': 0.6309027671813965, 'fscore': 0.7066829204559326}\n"
     ]
    },
    {
     "name": "stderr",
     "output_type": "stream",
     "text": [
      "\r",
      "148it [00:58,  2.85it/s]"
     ]
    },
    {
     "name": "stdout",
     "output_type": "stream",
     "text": [
      "{'precision': 0.8020005226135254, 'recall': 0.6309027671813965, 'fscore': 0.7062366008758545}\n"
     ]
    },
    {
     "name": "stderr",
     "output_type": "stream",
     "text": [
      "\r",
      "149it [00:58,  2.82it/s]"
     ]
    },
    {
     "name": "stdout",
     "output_type": "stream",
     "text": [
      "{'precision': 0.8006264567375183, 'recall': 0.6309027671813965, 'fscore': 0.7057033181190491}\n"
     ]
    },
    {
     "name": "stderr",
     "output_type": "stream",
     "text": [
      "\r",
      "150it [00:58,  2.85it/s]"
     ]
    },
    {
     "name": "stdout",
     "output_type": "stream",
     "text": [
      "{'precision': 0.79941725730896, 'recall': 0.6309027671813965, 'fscore': 0.7052331566810608}\n"
     ]
    },
    {
     "name": "stderr",
     "output_type": "stream",
     "text": [
      "\r",
      "151it [00:59,  2.89it/s]"
     ]
    },
    {
     "name": "stdout",
     "output_type": "stream",
     "text": [
      "{'precision': 0.7981052994728088, 'recall': 0.6309027671813965, 'fscore': 0.7047222256660461}\n"
     ]
    },
    {
     "name": "stderr",
     "output_type": "stream",
     "text": [
      "\r",
      "152it [00:59,  2.91it/s]"
     ]
    },
    {
     "name": "stdout",
     "output_type": "stream",
     "text": [
      "{'precision': 0.7969780564308167, 'recall': 0.6309027671813965, 'fscore': 0.7042824029922485}\n"
     ]
    },
    {
     "name": "stderr",
     "output_type": "stream",
     "text": [
      "\r",
      "153it [00:59,  2.95it/s]"
     ]
    },
    {
     "name": "stdout",
     "output_type": "stream",
     "text": [
      "{'precision': 0.7957481145858765, 'recall': 0.6309027671813965, 'fscore': 0.703801691532135}\n"
     ]
    },
    {
     "name": "stderr",
     "output_type": "stream",
     "text": [
      "\r",
      "154it [01:00,  2.95it/s]"
     ]
    },
    {
     "name": "stdout",
     "output_type": "stream",
     "text": [
      "{'precision': 0.7945958971977234, 'recall': 0.6309027671813965, 'fscore': 0.7033506631851196}\n"
     ]
    },
    {
     "name": "stderr",
     "output_type": "stream",
     "text": [
      "\r",
      "155it [01:00,  2.90it/s]"
     ]
    },
    {
     "name": "stdout",
     "output_type": "stream",
     "text": [
      "{'precision': 0.7933207154273987, 'recall': 0.6309027671813965, 'fscore': 0.7028507590293884}\n"
     ]
    },
    {
     "name": "stderr",
     "output_type": "stream",
     "text": [
      "\r",
      "156it [01:00,  2.89it/s]"
     ]
    },
    {
     "name": "stdout",
     "output_type": "stream",
     "text": [
      "{'precision': 0.7922489047050476, 'recall': 0.6309027671813965, 'fscore': 0.7024297118186951}\n"
     ]
    },
    {
     "name": "stderr",
     "output_type": "stream",
     "text": [
      "\r",
      "157it [01:01,  2.91it/s]"
     ]
    },
    {
     "name": "stdout",
     "output_type": "stream",
     "text": [
      "{'precision': 0.7910858392715454, 'recall': 0.6309027671813965, 'fscore': 0.7019721865653992}\n"
     ]
    },
    {
     "name": "stderr",
     "output_type": "stream",
     "text": [
      "\r",
      "158it [01:01,  2.91it/s]"
     ]
    },
    {
     "name": "stdout",
     "output_type": "stream",
     "text": [
      "{'precision': 0.7898948788642883, 'recall': 0.6309027671813965, 'fscore': 0.7015029788017273}\n"
     ]
    },
    {
     "name": "stderr",
     "output_type": "stream",
     "text": [
      "\r",
      "159it [01:01,  2.91it/s]"
     ]
    },
    {
     "name": "stdout",
     "output_type": "stream",
     "text": [
      "{'precision': 0.7888739705085754, 'recall': 0.6309027671813965, 'fscore': 0.7011001110076904}\n"
     ]
    },
    {
     "name": "stderr",
     "output_type": "stream",
     "text": [
      "\r",
      "160it [01:02,  2.95it/s]"
     ]
    },
    {
     "name": "stdout",
     "output_type": "stream",
     "text": [
      "{'precision': 0.7875548005104065, 'recall': 0.6309027671813965, 'fscore': 0.7005786299705505}\n"
     ]
    },
    {
     "name": "stderr",
     "output_type": "stream",
     "text": [
      "\r",
      "161it [01:02,  2.85it/s]"
     ]
    },
    {
     "name": "stdout",
     "output_type": "stream",
     "text": [
      "{'precision': 0.7864468097686768, 'recall': 0.6309027671813965, 'fscore': 0.7001398801803589}\n"
     ]
    },
    {
     "name": "stderr",
     "output_type": "stream",
     "text": [
      "\r",
      "162it [01:02,  2.83it/s]"
     ]
    },
    {
     "name": "stdout",
     "output_type": "stream",
     "text": [
      "{'precision': 0.7852491736412048, 'recall': 0.6309027671813965, 'fscore': 0.699664831161499}\n"
     ]
    },
    {
     "name": "stderr",
     "output_type": "stream",
     "text": [
      "\r",
      "163it [01:03,  2.89it/s]"
     ]
    },
    {
     "name": "stdout",
     "output_type": "stream",
     "text": [
      "{'precision': 0.784116804599762, 'recall': 0.6309027671813965, 'fscore': 0.6992150545120239}\n"
     ]
    },
    {
     "name": "stderr",
     "output_type": "stream",
     "text": [
      "\r",
      "164it [01:03,  2.96it/s]"
     ]
    },
    {
     "name": "stdout",
     "output_type": "stream",
     "text": [
      "{'precision': 0.7829365134239197, 'recall': 0.6309027671813965, 'fscore': 0.6987453103065491}\n"
     ]
    },
    {
     "name": "stderr",
     "output_type": "stream",
     "text": [
      "\r",
      "165it [01:03,  2.94it/s]"
     ]
    },
    {
     "name": "stdout",
     "output_type": "stream",
     "text": [
      "{'precision': 0.7817291021347046, 'recall': 0.6309027671813965, 'fscore': 0.6982641220092773}\n"
     ]
    },
    {
     "name": "stderr",
     "output_type": "stream",
     "text": [
      "\r",
      "166it [01:04,  2.96it/s]"
     ]
    },
    {
     "name": "stdout",
     "output_type": "stream",
     "text": [
      "{'precision': 0.7805559039115906, 'recall': 0.6309027671813965, 'fscore': 0.6977956295013428}\n"
     ]
    },
    {
     "name": "stderr",
     "output_type": "stream",
     "text": [
      "\r",
      "167it [01:04,  2.92it/s]"
     ]
    },
    {
     "name": "stdout",
     "output_type": "stream",
     "text": [
      "{'precision': 0.7793659567832947, 'recall': 0.6309027671813965, 'fscore': 0.697319746017456}\n"
     ]
    },
    {
     "name": "stderr",
     "output_type": "stream",
     "text": [
      "\r",
      "168it [01:04,  2.90it/s]"
     ]
    },
    {
     "name": "stdout",
     "output_type": "stream",
     "text": [
      "{'precision': 0.7782201170921326, 'recall': 0.6309027671813965, 'fscore': 0.6968607306480408}\n"
     ]
    },
    {
     "name": "stderr",
     "output_type": "stream",
     "text": [
      "\r",
      "169it [01:05,  2.94it/s]"
     ]
    },
    {
     "name": "stdout",
     "output_type": "stream",
     "text": [
      "{'precision': 0.7770473957061768, 'recall': 0.6309027671813965, 'fscore': 0.6963902115821838}\n"
     ]
    },
    {
     "name": "stderr",
     "output_type": "stream",
     "text": [
      "\r",
      "170it [01:05,  2.95it/s]"
     ]
    },
    {
     "name": "stdout",
     "output_type": "stream",
     "text": [
      "{'precision': 0.7759587168693542, 'recall': 0.6309027671813965, 'fscore': 0.6959526538848877}\n"
     ]
    },
    {
     "name": "stderr",
     "output_type": "stream",
     "text": [
      "\r",
      "171it [01:05,  2.92it/s]"
     ]
    },
    {
     "name": "stdout",
     "output_type": "stream",
     "text": [
      "{'precision': 0.7748228311538696, 'recall': 0.6309027671813965, 'fscore': 0.6954954266548157}\n"
     ]
    },
    {
     "name": "stderr",
     "output_type": "stream",
     "text": [
      "\r",
      "172it [01:06,  2.85it/s]"
     ]
    },
    {
     "name": "stdout",
     "output_type": "stream",
     "text": [
      "{'precision': 0.7735902667045593, 'recall': 0.6309027671813965, 'fscore': 0.6949984431266785}\n"
     ]
    },
    {
     "name": "stderr",
     "output_type": "stream",
     "text": [
      "\r",
      "173it [01:06,  2.86it/s]"
     ]
    },
    {
     "name": "stdout",
     "output_type": "stream",
     "text": [
      "{'precision': 0.7725411653518677, 'recall': 0.6309027671813965, 'fscore': 0.694574773311615}\n"
     ]
    },
    {
     "name": "stderr",
     "output_type": "stream",
     "text": [
      "\r",
      "174it [01:06,  2.94it/s]"
     ]
    },
    {
     "name": "stdout",
     "output_type": "stream",
     "text": [
      "{'precision': 0.7715247869491577, 'recall': 0.6309027671813965, 'fscore': 0.6941636800765991}\n"
     ]
    },
    {
     "name": "stderr",
     "output_type": "stream",
     "text": [
      "\r",
      "175it [01:07,  2.96it/s]"
     ]
    },
    {
     "name": "stdout",
     "output_type": "stream",
     "text": [
      "{'precision': 0.7706003785133362, 'recall': 0.6309027671813965, 'fscore': 0.6937892436981201}\n"
     ]
    },
    {
     "name": "stderr",
     "output_type": "stream",
     "text": [
      "\r",
      "176it [01:07,  3.01it/s]"
     ]
    },
    {
     "name": "stdout",
     "output_type": "stream",
     "text": [
      "{'precision': 0.7693514823913574, 'recall': 0.6309027671813965, 'fscore': 0.6932826638221741}\n"
     ]
    },
    {
     "name": "stderr",
     "output_type": "stream",
     "text": [
      "\r",
      "177it [01:07,  3.06it/s]"
     ]
    },
    {
     "name": "stdout",
     "output_type": "stream",
     "text": [
      "{'precision': 0.768136203289032, 'recall': 0.6309027671813965, 'fscore': 0.6927887797355652}\n"
     ]
    },
    {
     "name": "stderr",
     "output_type": "stream",
     "text": [
      "\r",
      "178it [01:08,  3.07it/s]"
     ]
    },
    {
     "name": "stdout",
     "output_type": "stream",
     "text": [
      "{'precision': 0.7668363451957703, 'recall': 0.6309027671813965, 'fscore': 0.6922595500946045}\n"
     ]
    },
    {
     "name": "stderr",
     "output_type": "stream",
     "text": [
      "\r",
      "179it [01:08,  2.76it/s]"
     ]
    },
    {
     "name": "stdout",
     "output_type": "stream",
     "text": [
      "{'precision': 0.7657760381698608, 'recall': 0.6309027671813965, 'fscore': 0.6918272376060486}\n"
     ]
    },
    {
     "name": "stderr",
     "output_type": "stream",
     "text": [
      "\r",
      "180it [01:09,  2.87it/s]"
     ]
    },
    {
     "name": "stdout",
     "output_type": "stream",
     "text": [
      "{'precision': 0.7647088766098022, 'recall': 0.6309027671813965, 'fscore': 0.6913914084434509}\n"
     ]
    },
    {
     "name": "stderr",
     "output_type": "stream",
     "text": [
      "\r",
      "181it [01:09,  2.91it/s]"
     ]
    },
    {
     "name": "stdout",
     "output_type": "stream",
     "text": [
      "{'precision': 0.7634400129318237, 'recall': 0.6309027671813965, 'fscore': 0.690872311592102}\n"
     ]
    },
    {
     "name": "stderr",
     "output_type": "stream",
     "text": [
      "\r",
      "182it [01:09,  2.98it/s]"
     ]
    },
    {
     "name": "stdout",
     "output_type": "stream",
     "text": [
      "{'precision': 0.7623794078826904, 'recall': 0.6309027671813965, 'fscore': 0.6904377341270447}\n"
     ]
    },
    {
     "name": "stderr",
     "output_type": "stream",
     "text": [
      "\r",
      "183it [01:10,  2.99it/s]"
     ]
    },
    {
     "name": "stdout",
     "output_type": "stream",
     "text": [
      "{'precision': 0.7612248063087463, 'recall': 0.6309027671813965, 'fscore': 0.6899638175964355}\n"
     ]
    },
    {
     "name": "stderr",
     "output_type": "stream",
     "text": [
      "\r",
      "184it [01:10,  3.01it/s]"
     ]
    },
    {
     "name": "stdout",
     "output_type": "stream",
     "text": [
      "{'precision': 0.7600640654563904, 'recall': 0.6309027671813965, 'fscore': 0.6894866228103638}\n"
     ]
    },
    {
     "name": "stderr",
     "output_type": "stream",
     "text": [
      "\r",
      "185it [01:10,  2.96it/s]"
     ]
    },
    {
     "name": "stdout",
     "output_type": "stream",
     "text": [
      "{'precision': 0.7588586807250977, 'recall': 0.6309027671813965, 'fscore': 0.6889902353286743}\n"
     ]
    },
    {
     "name": "stderr",
     "output_type": "stream",
     "text": [
      "\r",
      "186it [01:11,  2.77it/s]"
     ]
    },
    {
     "name": "stdout",
     "output_type": "stream",
     "text": [
      "{'precision': 0.7577050924301147, 'recall': 0.6309027671813965, 'fscore': 0.6885144114494324}\n"
     ]
    },
    {
     "name": "stderr",
     "output_type": "stream",
     "text": [
      "\r",
      "187it [01:13,  1.02it/s]"
     ]
    },
    {
     "name": "stdout",
     "output_type": "stream",
     "text": [
      "{'precision': 0.7566124796867371, 'recall': 0.6309027671813965, 'fscore': 0.6880629062652588}\n"
     ]
    },
    {
     "name": "stderr",
     "output_type": "stream",
     "text": [
      "\r",
      "188it [01:13,  1.25it/s]"
     ]
    },
    {
     "name": "stdout",
     "output_type": "stream",
     "text": [
      "{'precision': 0.7554848194122314, 'recall': 0.6309027671813965, 'fscore': 0.6875962615013123}\n"
     ]
    },
    {
     "name": "stderr",
     "output_type": "stream",
     "text": [
      "\r",
      "189it [01:14,  1.50it/s]"
     ]
    },
    {
     "name": "stdout",
     "output_type": "stream",
     "text": [
      "{'precision': 0.7542083263397217, 'recall': 0.6309027671813965, 'fscore': 0.6870670914649963}\n"
     ]
    },
    {
     "name": "stderr",
     "output_type": "stream",
     "text": [
      "\r",
      "190it [01:14,  1.62it/s]"
     ]
    },
    {
     "name": "stdout",
     "output_type": "stream",
     "text": [
      "{'precision': 0.7530688643455505, 'recall': 0.6309027671813965, 'fscore': 0.6865938901901245}\n"
     ]
    },
    {
     "name": "stderr",
     "output_type": "stream",
     "text": [
      "\r",
      "191it [01:15,  1.83it/s]"
     ]
    },
    {
     "name": "stdout",
     "output_type": "stream",
     "text": [
      "{'precision': 0.7519233822822571, 'recall': 0.6309027671813965, 'fscore': 0.68611741065979}\n"
     ]
    },
    {
     "name": "stderr",
     "output_type": "stream",
     "text": [
      "\r",
      "192it [01:15,  1.98it/s]"
     ]
    },
    {
     "name": "stdout",
     "output_type": "stream",
     "text": [
      "{'precision': 0.750885009765625, 'recall': 0.6309027671813965, 'fscore': 0.6856848001480103}\n"
     ]
    },
    {
     "name": "stderr",
     "output_type": "stream",
     "text": [
      "\r",
      "193it [01:15,  2.16it/s]"
     ]
    },
    {
     "name": "stdout",
     "output_type": "stream",
     "text": [
      "{'precision': 0.7498025894165039, 'recall': 0.6309027671813965, 'fscore': 0.6852331161499023}\n"
     ]
    },
    {
     "name": "stderr",
     "output_type": "stream",
     "text": [
      "\r",
      "194it [01:16,  2.27it/s]"
     ]
    },
    {
     "name": "stdout",
     "output_type": "stream",
     "text": [
      "{'precision': 0.7487794756889343, 'recall': 0.6309027671813965, 'fscore': 0.6848055124282837}\n"
     ]
    },
    {
     "name": "stderr",
     "output_type": "stream",
     "text": [
      "\r",
      "195it [01:16,  2.48it/s]"
     ]
    },
    {
     "name": "stdout",
     "output_type": "stream",
     "text": [
      "{'precision': 0.7477871775627136, 'recall': 0.6309027671813965, 'fscore': 0.6843902468681335}\n"
     ]
    },
    {
     "name": "stderr",
     "output_type": "stream",
     "text": [
      "\r",
      "196it [01:16,  2.63it/s]"
     ]
    },
    {
     "name": "stdout",
     "output_type": "stream",
     "text": [
      "{'precision': 0.746722936630249, 'recall': 0.6309027671813965, 'fscore': 0.6839442253112793}\n"
     ]
    },
    {
     "name": "stderr",
     "output_type": "stream",
     "text": [
      "\r",
      "197it [01:17,  2.62it/s]"
     ]
    },
    {
     "name": "stdout",
     "output_type": "stream",
     "text": [
      "{'precision': 0.7455687522888184, 'recall': 0.6309027671813965, 'fscore': 0.6834596395492554}\n"
     ]
    },
    {
     "name": "stderr",
     "output_type": "stream",
     "text": [
      "\r",
      "198it [01:17,  2.64it/s]"
     ]
    },
    {
     "name": "stdout",
     "output_type": "stream",
     "text": [
      "{'precision': 0.7445756793022156, 'recall': 0.6309027671813965, 'fscore': 0.683042049407959}\n"
     ]
    },
    {
     "name": "stderr",
     "output_type": "stream",
     "text": [
      "\r",
      "199it [01:18,  2.55it/s]"
     ]
    },
    {
     "name": "stdout",
     "output_type": "stream",
     "text": [
      "{'precision': 0.7435760498046875, 'recall': 0.6309027671813965, 'fscore': 0.6826212406158447}\n"
     ]
    },
    {
     "name": "stderr",
     "output_type": "stream",
     "text": [
      "\r",
      "200it [01:18,  2.66it/s]"
     ]
    },
    {
     "name": "stdout",
     "output_type": "stream",
     "text": [
      "{'precision': 0.7426804900169373, 'recall': 0.6309027671813965, 'fscore': 0.6822435259819031}\n"
     ]
    },
    {
     "name": "stderr",
     "output_type": "stream",
     "text": [
      "\r",
      "201it [01:18,  2.72it/s]"
     ]
    },
    {
     "name": "stdout",
     "output_type": "stream",
     "text": [
      "{'precision': 0.7415571808815002, 'recall': 0.6309027671813965, 'fscore': 0.6817692518234253}\n"
     ]
    },
    {
     "name": "stderr",
     "output_type": "stream",
     "text": [
      "\r",
      "202it [01:19,  2.78it/s]"
     ]
    },
    {
     "name": "stdout",
     "output_type": "stream",
     "text": [
      "{'precision': 0.7404830455780029, 'recall': 0.6309027671813965, 'fscore': 0.6813148856163025}\n"
     ]
    },
    {
     "name": "stderr",
     "output_type": "stream",
     "text": [
      "\r",
      "203it [01:19,  2.87it/s]"
     ]
    },
    {
     "name": "stdout",
     "output_type": "stream",
     "text": [
      "{'precision': 0.7395126223564148, 'recall': 0.6309027671813965, 'fscore': 0.6809038519859314}\n"
     ]
    },
    {
     "name": "stderr",
     "output_type": "stream",
     "text": [
      "\r",
      "204it [01:19,  2.73it/s]"
     ]
    },
    {
     "name": "stdout",
     "output_type": "stream",
     "text": [
      "{'precision': 0.7383806109428406, 'recall': 0.6309027671813965, 'fscore': 0.6804235577583313}\n"
     ]
    },
    {
     "name": "stderr",
     "output_type": "stream",
     "text": [
      "\r",
      "205it [01:20,  2.63it/s]"
     ]
    },
    {
     "name": "stdout",
     "output_type": "stream",
     "text": [
      "{'precision': 0.7372702956199646, 'recall': 0.6309027671813965, 'fscore': 0.6799517273902893}\n"
     ]
    },
    {
     "name": "stderr",
     "output_type": "stream",
     "text": [
      "\r",
      "206it [01:20,  2.54it/s]"
     ]
    },
    {
     "name": "stdout",
     "output_type": "stream",
     "text": [
      "{'precision': 0.7362357378005981, 'recall': 0.6309027671813965, 'fscore': 0.6795114874839783}\n"
     ]
    },
    {
     "name": "stderr",
     "output_type": "stream",
     "text": [
      "\r",
      "207it [01:21,  2.58it/s]"
     ]
    },
    {
     "name": "stdout",
     "output_type": "stream",
     "text": [
      "{'precision': 0.7350595593452454, 'recall': 0.6309027671813965, 'fscore': 0.6790101528167725}\n"
     ]
    },
    {
     "name": "stderr",
     "output_type": "stream",
     "text": [
      "\r",
      "208it [01:21,  2.57it/s]"
     ]
    },
    {
     "name": "stdout",
     "output_type": "stream",
     "text": [
      "{'precision': 0.7338330745697021, 'recall': 0.6309027671813965, 'fscore': 0.6784863471984863}\n"
     ]
    },
    {
     "name": "stderr",
     "output_type": "stream",
     "text": [
      "\r",
      "209it [01:21,  2.96it/s]"
     ]
    },
    {
     "name": "stdout",
     "output_type": "stream",
     "text": [
      "{'precision': 0.7332932949066162, 'recall': 0.6309027671813965, 'fscore': 0.678255558013916}\n"
     ]
    },
    {
     "name": "stderr",
     "output_type": "stream",
     "text": [
      "209it [01:23,  2.51it/s]\n",
      "2020-02-14 00:00:54,438 - INFO - __main__ - Prediction complete\n",
      "2020-02-14 00:00:54,441 - INFO - __main__ - Test metrics\n",
      "\n"
     ]
    },
    {
     "name": "stdout",
     "output_type": "stream",
     "text": [
      "{'precision': 0.7332932949066162, 'recall': 0.6309027671813965, 'fscore': 0.678255558013916}\n"
     ]
    }
   ],
   "source": [
    "# Predict\n",
    "results = predict_loop_or_load(model, generator, device='cpu', output_file=Path(rd.download_dir)/'test_outputs.jsonl', force_repredict=True)"
   ]
  },
  {
   "cell_type": "code",
   "execution_count": null,
   "metadata": {},
   "outputs": [],
   "source": []
  }
 ],
 "metadata": {
  "kernelspec": {
   "display_name": "Python 3",
   "language": "python",
   "name": "python3"
  },
  "language_info": {
   "codemirror_mode": {
    "name": "ipython",
    "version": 3
   },
   "file_extension": ".py",
   "mimetype": "text/x-python",
   "name": "python",
   "nbconvert_exporter": "python",
   "pygments_lexer": "ipython3",
   "version": "3.7.2"
  }
 },
 "nbformat": 4,
 "nbformat_minor": 2
}
